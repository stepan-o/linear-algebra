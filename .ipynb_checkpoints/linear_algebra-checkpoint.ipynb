{
 "cells": [
  {
   "cell_type": "markdown",
   "metadata": {},
   "source": [
    "<a id='top'></a>\n",
    "# Linear algebra\n",
    "\n",
    "1. [Vectors](#vectors)\n",
    "\n",
    "2. [Transformations](#transformations)\n",
    "\n",
    "3. [Matrices](#matrices)"
   ]
  },
  {
   "cell_type": "markdown",
   "metadata": {},
   "source": [
    "## 0. Highlights"
   ]
  },
  {
   "cell_type": "markdown",
   "metadata": {},
   "source": [
    "### 0.1 Multiplying a vector by a matrix"
   ]
  },
  {
   "cell_type": "markdown",
   "metadata": {},
   "source": [
    ">Multiplying an $n$-dimensional vector by an $n\\times{n}$ matrix can be seen as the process of generation of $n$ new coordinates. For each of the new coordinates, each old coordinate gets a chance to contribute with a coefficient supplied by a corresponding item from a row of the matrix. Each row of the matrix corresponds to one of the $n$ output coordinates and has $n$ coefficients to be applied to each of the old coordinates.\n",
    "\n",
    ">The product of multiplying an $n$-dimensional vector by an $n\\times{n}$ matrix is a transformed $n$-dimensional vector."
   ]
  },
  {
   "cell_type": "markdown",
   "metadata": {},
   "source": [
    "#### 0.1.1 Multiplying a vector by a matrix in 2 dimensions\n",
    "\n",
    "Let $ M=\\begin{bmatrix} a & b \\\\ c & d \\end{bmatrix} $\n",
    "\n",
    "$ \\hat{i_0} \\to \\hat{i_1} =  \\begin{bmatrix} a \\\\ c \\end{bmatrix} \\quad \\hat{j_0} \\to \\hat{j_1} = \\begin{bmatrix} b \\\\ d \\end{bmatrix} $\n",
    "\n",
    "Let $\\vec{v_0} = \\begin{bmatrix} x \\\\ y \\end{bmatrix}$\n",
    "\n",
    "$ \\vec{v_0} \\to \\vec{v_1} = M\\vec{v_0} = \n",
    "\\begin{bmatrix} a & b \\\\ c & d \\end{bmatrix} \n",
    "\\begin{bmatrix} x \\\\ y \\end{bmatrix} \n",
    "=\n",
    "x \n",
    "\\begin{bmatrix} a \\\\ c \\end{bmatrix} \n",
    "+ \n",
    "y \n",
    "\\begin{bmatrix} b \\\\ d \\end{bmatrix} \n",
    "= \n",
    "\\begin{bmatrix} ax \\\\ cx \\end{bmatrix} \n",
    "+ \n",
    "\\begin{bmatrix} by \\\\ dy \\end{bmatrix} \n",
    "= \n",
    "\\begin{bmatrix} ax + by \\\\ cx + dy \\end{bmatrix} $"
   ]
  },
  {
   "cell_type": "markdown",
   "metadata": {},
   "source": [
    "#### 0.1.2 Multiplying a vector by a matrix in 3 dimensions\n",
    "\n",
    "Let $M = \\begin{bmatrix} a_1 & b_1 & c_1 \\\\ a_2 & b_2 & c_2 \\\\ a_3 & b_3 & c_3 \\end{bmatrix}$\n",
    "\n",
    "Let $\\vec{v_0} = \\begin{bmatrix} x \\\\ y \\\\ z \\end{bmatrix}$\n",
    "\n",
    "$ \\vec{v_0} \\to \\vec{v_1} = M\\vec{v_0} = \n",
    "\\begin{bmatrix} a_1 & b_1 & c_1 \\\\ a_2 & b_2 & c_2 \\\\ a_3 & b_3 & c_3 \\end{bmatrix} \n",
    "\\begin{bmatrix} x \\\\ y \\\\ z \\end{bmatrix} \n",
    "= \n",
    "x \n",
    "\\begin{bmatrix} a_1 \\\\ a_2 \\\\ a_3 \\end{bmatrix} \n",
    "+\n",
    "y \n",
    "\\begin{bmatrix} b_1 \\\\ b_2 \\\\ b_3 \\end{bmatrix} \n",
    "+ \n",
    "z \n",
    "\\begin{bmatrix} c_1 \\\\ c_2 \\\\ c_3 \\end{bmatrix} \n",
    "= \n",
    "\\begin{bmatrix} x\\cdot{a_1} \\\\ x\\cdot{a_2} \\\\ x\\cdot{a_3} \\end{bmatrix} \n",
    "+ ~ + \n",
    "\\begin{bmatrix} y\\cdot{b_1} \\\\ y\\cdot{b_2} \\\\ y\\cdot{b_3} \\end{bmatrix} \n",
    "+ \n",
    "\\begin{bmatrix} z\\cdot{c_1} \\\\ z\\cdot{c_2} \\\\ z\\cdot{c_3} \\end{bmatrix} \n",
    "=  \n",
    "\\begin{bmatrix} \n",
    "x\\cdot{a_1} + y\\cdot{b_1} + z\\cdot{c_1} \\\\ \n",
    "x\\cdot{a_2} + y\\cdot{b_2} + z\\cdot{c_2} \\\\ \n",
    "x\\cdot{a_3} + y\\cdot{b_3} + z\\cdot{c_3} \n",
    "\\end{bmatrix} $"
   ]
  },
  {
   "cell_type": "markdown",
   "metadata": {},
   "source": [
    "### 0.2 Matrix multiplication"
   ]
  },
  {
   "cell_type": "markdown",
   "metadata": {},
   "source": [
    ">Mutliplying an $n\\times{n}$ matrix by an $n\\times{n}$ matrix can be seen as multiplying $n$ base vectors obtained from the first matrix by the second matrix (applying the second transformation to the results of the first). The result is an $n\\times{n}$ matrix of $n$ new base vectors."
   ]
  },
  {
   "cell_type": "markdown",
   "metadata": {},
   "source": [
    "#### 0.2.1 Matrix multiplication in 2 dimensions\n",
    "\n",
    "Let $M_1 = \\begin{bmatrix} a_1 & b_1 \\\\ c_1 & d_1 \\end{bmatrix} \\quad \\text{and} \\quad M_2 = \\begin{bmatrix} a_2 & b_2 \\\\ c_2 & d_2 \\end{bmatrix} $\n",
    "\n",
    "Basis vectors $\\hat{i_1}$ and $\\hat{j_1}$ obtained by applying the first transformation to original basis vectors $\\hat{i_0}$ and $\\hat{j_0}$, from $M_1$:\n",
    "\n",
    "$ \\hat{i_0} \\to \\hat{i_1} = \\begin{bmatrix} a_1 \\\\ c_1 \\end{bmatrix} \\quad \\text{and} \\quad \\hat{j_0} \\to \\hat{j_1} = \\begin{bmatrix} b_1 \\\\ d_1 \\end{bmatrix} $\n",
    "\n",
    "Applying the second transformation to basis vectors $\\hat{i_1}$ and $\\hat{j_1}$ obtained after applying the first:\n",
    "\n",
    "$ \\hat{i_1} \\to \\hat{i_2} = M_2 \\hat{i_1} = \\begin{bmatrix} a_2 & b_2 \\\\ c_2 & d_2 \\end{bmatrix} \\begin{bmatrix} a_1 \\\\ c_1 \\end{bmatrix} = a_1 \\begin{bmatrix} a_2 \\\\ c_2 \\end{bmatrix} + c_1 \\begin{bmatrix} b_2 \\\\ d_2 \\end{bmatrix} = \\begin{bmatrix} a_1\\cdot{a_2} \\\\ a_1\\cdot{c_2} \\end{bmatrix} + \\begin{bmatrix} c_1\\cdot{b_2} \\\\ c_1\\cdot{d_2} \\end{bmatrix} = \\begin{bmatrix} a_1a_2 + c_1b_2 \\\\ a_1c_2 + c_1d_2 \\end{bmatrix} $\n",
    "\n",
    "$ \\hat{j_1} \\to \\hat{j_2} = M_2 \\hat{j_1} = \\begin{bmatrix} a_2 & b_2 \\\\ c_2 & d_2 \\end{bmatrix} \\begin{bmatrix} b_1 \\\\ d_1 \\end{bmatrix} = b_1 \\begin{bmatrix} a_2 \\\\ c_2 \\end{bmatrix} + d_1 \\begin{bmatrix} b_2 \\\\ d_2 \\end{bmatrix} = \\begin{bmatrix} b_1\\cdot{a_2} \\\\ b_1\\cdot{c_2} \\end{bmatrix} + \\begin{bmatrix} d_1\\cdot{b_2} \\\\ d_1\\cdot{d_2} \\end{bmatrix} = \\begin{bmatrix} b_1a_2 + d_1b_2 \\\\ b_1c_2 + d_1d_2 \\end{bmatrix} $\n",
    "\n",
    "So the product of two matrices can be recorded as:\n",
    "\n",
    "$ \\begin{bmatrix} a_2 & b_2 \\\\ c_2 & d_2 \\end{bmatrix} \\begin{bmatrix} a_1 & b_1 \\\\ c_1 & d_1 \\end{bmatrix} = \\begin{bmatrix} a_1a_2 + c_1b_2 & b_1a_2 + d_1b_2 \\\\ a_1c_2 + c_1d_2 & b_1c_2 + d_1d_2 \\end{bmatrix} $\n",
    "\n",
    "$ \\begin{bmatrix} 0 & 2 \\\\ 1 & 0 \\end{bmatrix} \\begin{bmatrix} 1 & -2 \\\\ 1 & 0 \\end{bmatrix} = \\begin{bmatrix} 1\\cdot{0} + 1\\cdot{2} & -2\\cdot{0} + 0\\cdot{2} \\\\ 1\\cdot{1} + 1\\cdot{0} & -2\\cdot{1} + 0\\cdot{0} \\end{bmatrix} = \\begin{bmatrix} 2 & 0 \\\\ 1 & -2 \\end{bmatrix} $"
   ]
  },
  {
   "cell_type": "markdown",
   "metadata": {},
   "source": [
    "#### 0.2.2 Matrix multiplication in 3 dimensions\n",
    "\n",
    "Performing this matrix multiplication numerically in 3 dimensions is pretty similar to the 2-dimensional case.\n",
    "\n",
    "Let \n",
    "$$ M_1 = \n",
    "\\begin{bmatrix} \\hat{i_1} & \\hat{i_1} & \\hat{k_1} \\end{bmatrix} \n",
    "= \n",
    "\\begin{bmatrix} a_1 & b_1 & c_1 \\\\ a_2 & b_2 & c_2 \\\\ a_3 & b_3 & c_3 \\end{bmatrix} $$\n",
    "$$\\text{and}$$\n",
    "$$ \n",
    "M_2 = \n",
    "\\begin{bmatrix} \\hat{i_2} & \\hat{j_2} & \\hat{k_2} \\end{bmatrix} \n",
    "= \n",
    "\\begin{bmatrix} d_1 & e_1 & f_1 \\\\ d_2 & e_2 & f_2 \\\\ d_3 & e_3 & f_3 \\end{bmatrix} $$\n",
    "\n",
    "Basis vector $\\hat{i_1}$ obtained after applying the first transformation $M_1$ to basis vector $\\hat{i_0}$, from matrix $M_1: \\hat{i_1} = \\begin{bmatrix} a_1 \\\\ a_2 \\\\ a_3 \\end{bmatrix}$\n",
    "\n",
    "Applying the second transformation to basis vector $\\hat{i_1}$ obtained after appying the first one:\n",
    "\n",
    "$\\begin{bmatrix} d_1 & e_1 & f_1 \\\\ d_2 & e_2 & f_2 \\\\ d_3 & e_3 & f_3 \\end{bmatrix} \n",
    "\\begin{bmatrix} a_1 \\\\ a_2 \\\\ a_3 \\end{bmatrix} \n",
    "= \n",
    "a_1 \\begin{bmatrix} d_1 \\\\ d_2 \\\\ d_3 \\end{bmatrix} \n",
    "+ \n",
    "a_2 \\begin{bmatrix} e_1 \\\\ e_2 \\\\ e_3 \\end{bmatrix} \n",
    "+ \n",
    "a_3 \\begin{bmatrix} f_1 \\\\ f_2 \\\\ f_3 \\end{bmatrix} \n",
    "=\n",
    "\\begin{bmatrix} a_1d_1 + a_2e_1 + a_3f_1 \\\\ a_1d_2 + a_2e_2 + a_3f_2 \\\\ a_1d_3 + a_2e_3 + a_3f_3 \\end{bmatrix} $\n",
    "\n",
    "Basis vector $\\hat{j_1}$ obtained after applying the first transformation $M_1$ to basis vector $\\hat{j_0}$, from matrix $M_1: \\hat{i_1} = \\begin{bmatrix} b_1 \\\\ b_2 \\\\ b_3 \\end{bmatrix}$\n",
    "\n",
    "Applying the second transformation to basis vector $\\hat{i_1}$ obtained after appying the first one:\n",
    "\n",
    "$\\begin{bmatrix} d_1 & e_1 & f_1 \\\\ d_2 & e_2 & f_2 \\\\ d_3 & e_3 & f_3 \\end{bmatrix} \n",
    "\\begin{bmatrix} b_1 \\\\ b_2 \\\\ b_3 \\end{bmatrix} \n",
    "= \n",
    "b_1 \\begin{bmatrix} d_1 \\\\ d_2 \\\\ d_3 \\end{bmatrix} \n",
    "+ \n",
    "b_2 \\begin{bmatrix} e_1 \\\\ e_2 \\\\ e_3 \\end{bmatrix} \n",
    "+ \n",
    "b_3 \\begin{bmatrix} f_1 \\\\ f_2 \\\\ f_3 \\end{bmatrix} \n",
    "=\n",
    "\\begin{bmatrix} b_1d_1 + b_2e_1 + b_3f_1 \\\\ b_1d_2 + b_2e_2 + b_3f_2 \\\\ b_1d_3 + b_2e_3 + b_3f_3 \\end{bmatrix} $\n",
    "\n",
    "Basis vector $\\hat{k_1}$ obtained after applying the first transformation $M_1$ to basis vector $\\hat{k_0}$, from matrix $M_1: \\hat{i_1} = \\begin{bmatrix} c_1 \\\\ c_2 \\\\ c_3 \\end{bmatrix}$\n",
    "\n",
    "Applying the second transformation to basis vector $\\hat{i_1}$ obtained after appying the first one:\n",
    "\n",
    "$\\begin{bmatrix} d_1 & e_1 & f_1 \\\\ d_2 & e_2 & f_2 \\\\ d_3 & e_3 & f_3 \\end{bmatrix} \n",
    "\\begin{bmatrix} c_1 \\\\ c_2 \\\\ c_3 \\end{bmatrix} \n",
    "= \n",
    "c_1 \\begin{bmatrix} d_1 \\\\ d_2 \\\\ d_3 \\end{bmatrix} \n",
    "+ \n",
    "c_2 \\begin{bmatrix} e_1 \\\\ e_2 \\\\ e_3 \\end{bmatrix} \n",
    "+ \n",
    "c_3 \\begin{bmatrix} f_1 \\\\ f_2 \\\\ f_3 \\end{bmatrix} \n",
    "=\n",
    "\\begin{bmatrix} c_1d_1 + c_2e_1 + c_3f_1 \\\\ c_1d_2 + c_2e_2 + c_3f_2 \\\\ c_1d_3 + c_2e_3 + c_3f_3 \\end{bmatrix} $\n",
    "\n",
    "The 3 new base vectors obtained by applying the second transformation to the basis vectors obtained by the first one, if recorded together, give us the product of multiplying matrices $M_1$ and $M_2$:\n",
    "\n",
    "$ M_2M_1 = \n",
    "\\begin{bmatrix} d_1 & e_1 & f_1 \\\\ d_2 & e_2 & f_2 \\\\ d_3 & e_3 & f_3 \\end{bmatrix} \n",
    "\\begin{bmatrix} a_1 & b_1 & c_1 \\\\ a_2 & b_2 & c_2 \\\\ a_3 & b_3 & c_3 \\end{bmatrix} \n",
    "= ~ = \n",
    "\\begin{bmatrix} \n",
    "a_1d_1 + a_2e_1 + a_3f_1 & b_1d_1 + b_2e_1 + b_3f_1 & c_1d_1 + c_2e_1 + c_3f_1 \\\\ \n",
    "a_1d_2 + a_2e_2 + a_3f_2 & b_1d_2 + b_2e_2 + b_3f_2 & c_1d_2 + c_2e_2 + c_3f_2 \\\\ \n",
    "a_1d_3 + a_2e_3 + a_3f_3 & b_1d_3 + b_2e_3 + b_3f_3 & c_1d_3 + c_2e_3 + c_3f_3 \n",
    "\\end{bmatrix}$"
   ]
  },
  {
   "cell_type": "markdown",
   "metadata": {},
   "source": [
    "### 0.3 Determinant of a matrix"
   ]
  },
  {
   "cell_type": "markdown",
   "metadata": {},
   "source": [
    ">Determinant can be seen as the area scaling factor of the transformation, with negative determinant values signalling that the transformation also inverts orientation of space."
   ]
  },
  {
   "cell_type": "markdown",
   "metadata": {},
   "source": [
    "For a $2\\times{2}$ matrix with entries $a, b, c, d$, the formula is:\n",
    "\n",
    "$ \\det \\left( \\begin{bmatrix} a & b \\\\ c & d \\end{bmatrix} \\right) = ad - bc $"
   ]
  },
  {
   "cell_type": "markdown",
   "metadata": {},
   "source": [
    "Here is a helpful diagram with a more precise description of the $b\\cdot{c}$ term.\n",
    "\n",
    "<img src='img/la_pic98.png'>"
   ]
  },
  {
   "cell_type": "markdown",
   "metadata": {},
   "source": [
    "3Blue1Brown Series **Essence of Linear Algebra**: \n",
    "\n",
    "---\n",
    "\n",
    "https://www.youtube.com/watch?v=fNk_zzaMoSs&index=1&list=PLZHQObOWTQDPD3MizzM2xVFitgF8hE_ab\n",
    "\n",
    "---\n",
    "\n",
    "**\"The introduction of numbers as coordinates is an act of violence.\"** [-_Hermann Weyl_](https://en.wikipedia.org/wiki/Hermann_Weyl)\n",
    "\n",
    "---"
   ]
  },
  {
   "cell_type": "code",
   "execution_count": 21,
   "metadata": {},
   "outputs": [],
   "source": [
    "import numpy as np\n",
    "import pandas as pd\n",
    "import matplotlib.pyplot as plt\n",
    "import matplotlib\n",
    "\n",
    "plt.style.use(['fivethirtyeight', 'seaborn-bright'])\n",
    "\n",
    "font = {'family' : 'DejaVu Sans',\n",
    "  'weight' : 'normal',\n",
    "  'size' : 13}\n",
    "matplotlib.rc('font', **font)"
   ]
  },
  {
   "cell_type": "markdown",
   "metadata": {},
   "source": [
    "<a id='vectors'></a>\n",
    "# 1. Vectors\n",
    "\n",
    "Back to the [top](#top)\n",
    "\n",
    "From [3Blue1Brown Series: Essence of Linear Algebra](https://www.youtube.com/watch?v=fNk_zzaMoSs&index=1&list=PLZHQObOWTQDPD3MizzM2xVFitgF8hE_ab)\n",
    "\n",
    "[1.1 Definition of vectors](#vectors_definition)\n",
    "\n",
    "[1.2 Vector addition](#vector_addition)\n",
    "\n",
    "[1.3 Scalar multiplication](#scalar_multiplication)\n",
    "\n",
    "[1.4 Adding scaled vectors](#adding_scaled_vectors)\n",
    "\n",
    "[1.5 Basis of the coordinate system](#coordinate_system_basis)\n",
    "\n",
    "[1.6 Linear combination](#linear_combination)\n",
    "\n",
    "[1.7 Span of a given pair of vectors in 2-d space](#span_2d)\n",
    "\n",
    "[1.8 Vectors as points](#vectors_as_points)\n",
    "\n",
    "[1.9 Span of a given pair of vectors in 3-d space](#span_3d)\n",
    "\n",
    "[1.10 Span of 3 vectors in 3-d space](#span_3_3d)\n",
    "\n",
    "[1.11 Linearly dependent vectors](#linearly_dependent_vectors)"
   ]
  },
  {
   "cell_type": "markdown",
   "metadata": {},
   "source": [
    "<a id='vectors_definition'></a>\n",
    "### 1.1 Definition of vectors\n",
    "\n",
    "Back to [section 1](#vectors) / Back to the [top](#top)"
   ]
  },
  {
   "cell_type": "markdown",
   "metadata": {},
   "source": [
    "#### The physics student perspective\n",
    "\n",
    "The physics student perspective is that **vectors are arrows pointing in space**. What defines a given vector is its **length**, and the **direction** that it is pointing in, but as long as those two facts are the same, you can can move it all around and its still the same vector. Vectors sitting in the flat plain are 2-dimensional, and those sitting in the broader space that we live in are 3-dimensional.\n",
    "\n",
    "<img src='img/la_pic1.png'>"
   ]
  },
  {
   "cell_type": "markdown",
   "metadata": {},
   "source": [
    "#### The computer science perspective\n",
    "\n",
    "The **computer science perspective** is that **vectors are ordered lists (sequences) of numbers.** Say that you were doing some analytics about house prices, and the only **features** you cared about were square footage and price. You might model each house with a pair of numbers: the first indicating square footage, and the second indicating price. Notice, that the **order matters** here. In the lingo, you'd be modeling houses as 2-dimensional vectors, where in this context \"vector\" is pretty much a fancy word for an \"ordered list\", and what makes it 2-dimensional is the fact that the length of that list is 2.\n",
    "\n",
    "<img src='img/la_pic2.png'>"
   ]
  },
  {
   "cell_type": "markdown",
   "metadata": {},
   "source": [
    "#### The mathematician's perspective\n",
    "\n",
    "The **mathematician** on the other hand seeks to generalize both these views, basically saying that a **vector can be anything where there is a sensible notion of adding two vectors, and multiplying a vector by a scalar number.** Vector addition and multiplication will play an important role throughout linear algebra.\n",
    "\n",
    "<img src='img/la_pic3.png'>\n",
    "\n",
    "It **does not matter** if you think of vectors as fundamentally being **arrows in space** that happen to have a nice numerical representation, **or** funamentally as **lists of numbers** that happen to have a nice geometric interpretation. The **usefullness of linear algebra** has less to do with either one of these views than in does with the **ability to translate back and forth between them**.\n",
    "\n",
    "It gives a data analyst a **nice way to conceptualize many lists of numbers in a visual way**, which can seriously clarify patterns in data, and give a global view of what certain operations do; and on the flip side, it gives people like physicists and computer graphics programmers a **language to describe space and the manipulation of space using numbers** that can be crunched and run through a computer. "
   ]
  },
  {
   "cell_type": "markdown",
   "metadata": {},
   "source": [
    "<a id='vector_addition'></a>\n",
    "### 1.2 Vector addition\n",
    "\n",
    "Back to [section 1](#vectors) / Back to the [top](#top)\n",
    "\n",
    "To add the two vectors together, move the second vector so that its tail sits at the tip of the first one; then if you draw a new vector from the tail of the first one to where the tip of the second one now sits, that new vector is their sum. This definition of addition is pretty much the only time in linear algebra where we let vectors stray away from the origin. \n",
    "\n",
    "Each vector represents a certain movement, a step with a certain distance and direction in space. If you take a step along the first vector, then take a step in the direction and distance described by the second vector, the overall effect is just the same as if you moved along the sum of those two vectors to start with. You can think of it as an extension of how we think about adding number on a number line.\n",
    "\n",
    "<img src='img/la_pic4.png'>"
   ]
  },
  {
   "cell_type": "markdown",
   "metadata": {},
   "source": [
    "Numerically, the first vector has coordinates $ (1, 2) $, or $ \\begin{bmatrix} 1 \\\\ 2 \\end{bmatrix} $, and the second one has coordinates $ (3, -1) $, or $ \\begin{bmatrix} 3 \\\\ -1 \\end{bmatrix} $. When you take the vector sum using the tip-to-tail method, you can think of a four-step path from the origin to the tip of the second vector: \"move $1$ to the right, then $3$ up, then $3$ to the right, then $1$ down\", or $ \\begin{bmatrix} 1 \\\\ 2 \\end{bmatrix} + \\begin{bmatrix} 3 \\\\ -1 \\end{bmatrix} $. Reorganizing these steps so you first do all the rightward motion, then do all the vertical motion, you can read it the same as saying \"first move $ 1 + 3 $ to the right, then move $ 2 + (-1) $ up\", or $ \\begin{bmatrix} 1 + 3 \\\\ 2 + (-1) \\end{bmatrix} $.\n",
    "\n",
    "$ \\begin{bmatrix} 1 \\\\ 2 \\end{bmatrix} + \\begin{bmatrix} 3 \\\\ -1 \\end{bmatrix} = \\begin{bmatrix} 1 + 3 \\\\ 2 - 1 \\end{bmatrix} = \\begin{bmatrix} 4 \\\\ 1 \\end{bmatrix} $\n",
    "\n",
    "$ \\hat{i} + 2\\hat{j} + 3\\hat{i} - \\hat{j} = 4\\hat{i} + \\hat{j} $\n",
    "\n",
    "In general, **adding two vectors numerically** can be done as:\n",
    "\n",
    "$ \\begin{bmatrix} x_1 \\\\ y_1 \\end{bmatrix}  + \\begin{bmatrix} x_2 \\\\ y_2 \\end{bmatrix}  = \\begin{bmatrix} x_1 + x_2 \\\\ y_1 + y_2 \\end{bmatrix} $"
   ]
  },
  {
   "cell_type": "markdown",
   "metadata": {},
   "source": [
    "<a id='scalar_multiplication'></a>\n",
    "### 1.3 Scalar multiplication\n",
    "\n",
    "Back to [section 1](#vectors) / Back to the [top](#top)\n",
    "\n",
    "If you take number 2 and multiply it by a given vector, it means you stretch out that vector and its 2 times as long as when you started. When you multiply it by a negative number, then the vector first gets flipped, then stretched out by that factor. \n",
    "\n",
    "<img src='img/la_pic5.png'>"
   ]
  },
  {
   "cell_type": "markdown",
   "metadata": {},
   "source": [
    "This process of stretching or squishing or sometimes reversing the direction of a vector is called \"scaling\" and whenever you catch a number, say $2$, or $\\frac{1} {3}$, or $-1.8$ acting like this -- scaling some vector, you call it a **scalar**. In fact, throughout linear algebra, one of the main things that numbers do is scale vectors, so it's pretty common to use the word \"scalar\" pretty much interchangeably with the word number.\n",
    "\n",
    "Numerically, stretching out a vector by a factor of, say, $2$, corresponds with multiplying each of its components by that factor $2$. For a vector with coordinates $(3, 1)$, multiplying by $2$ would look like this:\n",
    "\n",
    "$ 2 \\cdot{ \\begin{bmatrix} 3 \\\\ 1 \\end{bmatrix} } = \\begin{bmatrix} 3 \\cdot{2} \\\\ 1 \\cdot{2} \\end{bmatrix} = \\begin{bmatrix} 6 \\\\ 2 \\end{bmatrix} $\n",
    "\n",
    "$ 2(3\\hat{i} + \\hat{j}) = 6\\hat{i} + 2{j} $\n",
    "\n",
    "In general, **mutliplying a vector by a scalar** can be done as:\n",
    "\n",
    "$ a \\cdot{\\begin{bmatrix} x \\\\ y \\end{bmatrix} } = \\begin{bmatrix} ax \\\\ ay \\end{bmatrix} $\n",
    "\n",
    "<img src='img/la_pic6.png'>"
   ]
  },
  {
   "cell_type": "markdown",
   "metadata": {},
   "source": [
    "<a id='adding_scaled_vectors'></a>\n",
    "### 1.4 Adding scaled vectors\n",
    "\n",
    "Back to [section 1](#vectors) / Back to the [top](#top)\n",
    "\n",
    "There is another way to think of vector coordinates which is pretty central in linear algebra. When you have a pair of numbers thats meant to describe a vector, like $ \\begin{bmatrix} 3 \\\\ -2 \\end{bmatrix} $, you can think of each coordinate as a scalar that stretches or squishes unit vectors $ \\hat{i} $ and $ \\hat{j} $. \n",
    "\n",
    "\n",
    "In this sense, the vector that these coordinates describe is the sum of two sclaed vectors. That is a surprisingly important concept, the idea of adding together two scaled vectors.\n",
    "\n",
    "<img src='img/la_pic7.png'></a>\n",
    "\n",
    "#### Adding two vectors\n",
    "\n",
    "$ \\hat{i} + 2\\hat{j} + 3\\hat{i} - \\hat{j} = 4\\hat{i} + \\hat{j} $\n",
    "\n",
    "#### Multiplying a vector by a scalar\n",
    "\n",
    "$ 2(3\\hat{i} + \\hat{j}) = 6\\hat{i} + 2{j} $"
   ]
  },
  {
   "cell_type": "markdown",
   "metadata": {},
   "source": [
    "<a id='coordinate_system_basis'></a>\n",
    "### 1.5 Basis of the coordinate system\n",
    "\n",
    "Back to [section 1](#vectors) / Back to the [top](#top)\n",
    "\n",
    "Unit vectors $\\hat{i}$ and $\\hat{j}$ are called **basis vectors** and together they form what is called the **basis of the coordinate system**. What this means is when you think of coordinates as scalars, the basis vectors are what these scalars actually scale.\n",
    "\n",
    "The technical definition of the basis:\n",
    "\n",
    "> The basis of a vector space is a set of [linearly independent](#linearly_dependent_vectors) vectors that [span](#span_2d) the full space.\n",
    "\n",
    "By framing our coordinate system in terms of these two basis vectors, it raises a pretty interesting and subtle point: we could have different basis vectors and gotten a completely reasonable, new coordinate system. Any time we describe vectors numerically, it depends on an implicit choice of what basis vectors we're using.\n",
    "\n",
    "<img src='img/la_pic8.png'>\n",
    "\n",
    "If we pick a pair of basis vectors $\\vec{v}$ and $\\vec{w}$, the given vector in this case becomes a result of a sum of $ -0.80\\vec{v} + 1.3\\vec{w} $, so it has coordinates of $\\begin{bmatrix} -0.80 \\\\ 1.30 \\end{bmatrix}$.\n",
    "\n",
    "If we choose a different pair of basis vectors $\\hat{i}$ and $\\hat{j}$, the given vector now is a result of a sum $ 3.1\\hat{i} - 2.9{j}$, and now it has coordinates of $\\begin{bmatrix} 3.1 \\\\ -2.9 \\end{bmatrix}$.\n",
    "\n",
    "Obviously, $\\begin{bmatrix} -0.80 \\\\ 1.30 \\end{bmatrix} \\neq \\begin{bmatrix} 3.1 \\\\ -2.9 \\end{bmatrix}$"
   ]
  },
  {
   "cell_type": "markdown",
   "metadata": {},
   "source": [
    "<a id='linear_combination'></a>\n",
    "### 1.6 Linear combination\n",
    "\n",
    "Back to [section 1](#vectors) / Back to the [top](#top)\n",
    "\n",
    "Every time that you're scaling two vectors and adding them like this, it's called a **linear combination** of those two vectors. The word linear can be understood from the fact that if you fix one of these scalars and let the other one change its value freely, the tip of the resulting vector draws a straight line.\n",
    "\n",
    "<img src='img/la_pic9.png'></a>\n",
    "\n",
    "Now, if you let both scalars range freely, and consider every possible vector that you can get, there are two things that can happen.\n",
    "\n",
    "* For most pairs of vectors, you'll be able to reach every possible point in the plane, every 2-dimensional vector is within your grasp\n",
    "\n",
    "<img src='img/la_pic10.png'>\n",
    "\n",
    "* However, in the unlucky case when your two original vectors happen to line up, the tip of the resulting vector is limited to just a single line passing through the origin.\n",
    "\n",
    "<img src='img/la_pic11.png'>\n",
    "\n",
    "* Technically, there is also the third possibility that both of your original vectors would be zero, in which case you'd be stuck at the origin."
   ]
  },
  {
   "cell_type": "markdown",
   "metadata": {},
   "source": [
    "<a id='span_2d'></a>\n",
    "### 1.7 Span of a given pair of vectors in 2-d space\n",
    "\n",
    "Back to [section 1](#vectors) / Back to the [top](#top)\n",
    "\n",
    "$ Span(\\vec{v}, \\vec{w}) = a\\vec{v} + b\\vec{w} \\quad \\forall a, b \\in\\mathbb{R}$\n",
    "\n",
    "The **set of all possible vectors that you can reach with a linear combination** of a given pair of vectors is called the **span** of these two vectors. \n",
    "\n",
    "Remember that linear algebra revolves around vector addition and scalar multiplication? Well, the span of two vectors is basically a way of asking, \"What are all the possible vectors that you can reach, using only these two fundamental operations\". \n",
    "\n",
    "<img src='img/la_pic12.png'>\n",
    "\n",
    "The span of most pairs of 2-d vectors is all vectors in 2-d space, but when the two vectors line up , their span is all vectors whose tip sits on that line.\n",
    "\n",
    "<img src='img/la_pic13.png'>"
   ]
  },
  {
   "cell_type": "markdown",
   "metadata": {},
   "source": [
    "<a id='vectors_as_points'></a>\n",
    "### 1.8 Vectors as points\n",
    "\n",
    "Back to [section 1](#vectors) / Back to the [top](#top)\n",
    "\n",
    "It gets really crowded thinking about a whole collection of vectors sitting on a line, and more crowded still to think about all 2-dimensional vectors all at once, filling up the plane.\n",
    "\n",
    "<img src='img/la_pic14.png'>\n",
    "\n",
    "So when dealing with collections of vectors like this, it's common to represent each one with just a point in space -- the point at the tip of that vector with its tail on the origin.\n",
    "\n",
    "That way, if you want to think about every possible vector whose tip sits on a certain line, just think about the line itself. Likewise, to think about all the possible 2-dimensional vectors all at once, conceptualize it as the point where its tip sits. So, in effect what you'll be thinking about is the infinite flat sheet of of 2-dimensional space itself, leaving the arrows out of it.\n",
    "\n",
    "<img src='img/la_pic15.png'>\n",
    "\n",
    "In general, if you're thinking of a vector on its own, think of it as an arrow. And if you're dealing with a collection of vectors, its convenient to think of them all as points.\n",
    "\n",
    "So for the span example, the span of most pairs of vectors ends up being the entire infinite sheet of two-dimensional space, but if they line up, their span is just a line.\n",
    "\n",
    "<img src='img/la_pic16.png'>"
   ]
  },
  {
   "cell_type": "markdown",
   "metadata": {},
   "source": [
    "<a id='span_3d'></a>\n",
    "### 1.9 Span of a given pair of vectors in 3-d space\n",
    "\n",
    "Back to [section 1](#vectors) / Back to the [top](#top)\n",
    "\n",
    "The idea of span gets a lot more interesting if we're starting to think about vectors in a 3-dimensional space. If you take two vectors in a 3-dimensional space that are not pointing in the same direction, what does it mean to take their span?\n",
    "\n",
    "Their span is the collection of all possible linear combinations of those two vectors, meaning all the possible vectors you get by scaling each of the two of them in some way and adding them together. You can imagine \"turning\" two \"different\" knobs to change the two scalars defining the linear combination, adding the scaled vectors and following the tip of the resulting vector.\n",
    "\n",
    "That tip will trace out some kind of flat sheet, cutting through the origin of 3-dimensional space. This flat sheet is the span of the two vectors, or more precicely, the set of all possible vectors whose tips sit on that flat sheet.\n",
    "\n",
    "<img src='img/la_pic17.png'>"
   ]
  },
  {
   "cell_type": "markdown",
   "metadata": {},
   "source": [
    "<a id='span_3_3d'></a>\n",
    "### 1.10 Span of 3 vectors in 3-d space\n",
    "\n",
    "Back to [section 1](#vectors) / Back to the [top](#top)\n",
    "\n",
    "If we add a third vector to a pair of vectors in 3-dimensional space, the span of all 3 vectors is defined pretty much the same way as it is for two: you'll choose 3 different scalars, scale each of those vectors and then add them all together. And again, the span of these 3 vectors is the set of all possible linear combinations.\n",
    "\n",
    "<img src='img/la_pic18.png'>"
   ]
  },
  {
   "cell_type": "markdown",
   "metadata": {},
   "source": [
    "Two different things can happen here:\n",
    "\n",
    "* if your third vector happens to be sitting on the span of the first two, then the span does not change. It is sort of trapped on that same flat sheet. In another words, adding a scaled version of that third vector to the linear combination does not really give you access to any new vectors.\n",
    "\n",
    "<img src='img/la_pic19.png'>"
   ]
  },
  {
   "cell_type": "markdown",
   "metadata": {},
   "source": [
    "* but if you just randomly choose a third vector, it's almost certainly not sitting on the span of those first two. Then, since it is pointing in the opposite direction, it unlocks access to every possible 3-dimensional vector. As you scale that new third vector, it \"moves around\" the span sheet of the first two, sweeping it through all of space. Another way to think about it is if you're making full use of the three, freely-changing scalars that you have at your disposal to access the full 3 dimensions of space.\n",
    "\n",
    "<img src='img/la_pic20.png'>"
   ]
  },
  {
   "cell_type": "markdown",
   "metadata": {},
   "source": [
    "<a id='linearly_dependent_vectors'></a>\n",
    "### 1.11 Linearly dependent vectors\n",
    "\n",
    "Back to [section 1](#vectors) / Back to the [top](#top)\n",
    "\n",
    "Now, in the case where the third vector was already sitting on the span of the first two, or in the case where the two vectors happen to line up, we want some terminology to describe the fact that at least one of these vectors is redundant -- not adding anything to our span.\n",
    "\n",
    "Whenever this happens, where you have multiple vectors and you could remove one without reducing the span, the relevant terminology is to say that they are **linearly dependent**.\n",
    "\n",
    "Another way of phrasing that would be to say that one of the vectors can be expressed as the linear combination of the others, since its already in the span of the others\n",
    "\n",
    "<img src='img/la_pic21.png'>\n",
    "\n",
    "On the other hand, if each vector really does add another dimension to the span, they're said to be **linearly independent**.\n",
    "\n",
    "<img src='img/la_pic22.png'>"
   ]
  },
  {
   "cell_type": "markdown",
   "metadata": {},
   "source": [
    "<a id='transformations'></a>\n",
    "## 2. Transformations\n",
    "\n",
    "Back to the [top](#top)\n",
    "\n",
    "[2.1 What is a transformation?](#what_is_transformation)\n",
    "\n",
    "[2.2 Transformation as a whole](#transformation_as_whole)\n",
    "\n",
    "[2.3 Transformations in 2 dimensions](#transformations_2d)\n",
    "\n",
    "[2.4 Examples of transformations](#transformations_examples)\n",
    "\n",
    "[2.5 Linear transformaitons](#linear_transformations)\n",
    "\n",
    "[2.6 Describing transformaitons numerically](#describing_transformations_numerically)\n",
    "\n",
    "[2.7 Deducing location of a vector $\\vec{v}$ after a transformation](#finding_v)\n",
    "\n",
    "[2.8 Recording a linear transformation in a 2x2 matrix](#lt_to_matrix)\n",
    "\n",
    "[2.9 Linear transformation as a matrix-vector multiplication](#lt_as_matrix_vector)\n",
    "\n",
    "[2.10 Describing linear transformations with matrices](#lt_as_matrices_practice)\n",
    "\n",
    "[2.11 Summary](#transformations_summary)\n",
    "\n",
    "[2.12 Important takeaway](#transformations_important_takeaway)"
   ]
  },
  {
   "cell_type": "markdown",
   "metadata": {},
   "source": [
    "<a id='what_is_transformation'></a>\n",
    "### 2.1 What is a transformation?\n",
    "\n",
    "Back to [section 2](#transformations) / Back to the [top](#top)\n",
    "\n",
    "To start, let's parse the term \"linear transformation\". **Transformation** is essentially a fancy word for **function** -- it's something that **takes in inputs** and **produces an output** for each one. Specifically in the context of linear algebra, we like to think about transformations that **take in some vector** and **spit out another vector**.\n",
    "\n",
    "<img src='img/la_pic23.png' width=300>\n",
    "\n",
    "So why use the term \"transformation\" instead of function if they mean the same thing? It's to be suggestive of a certain way to visualize this input-output relation. A great way to understand functions of vectors is to use movement. If a transformation takes some input vector to some output vector, we imagine that input vector \"moving\" to that output vector. \n",
    "\n",
    "<img src='img/la_pic24.png' width=300>"
   ]
  },
  {
   "cell_type": "markdown",
   "metadata": {},
   "source": [
    "<a id='transformation_as_whole'></a>\n",
    "### 2.2 Transformation as a whole\n",
    "\n",
    "Back to [section 2](#transformations) / Back to the [top](#top)\n",
    "\n",
    "Then to understand the transformation as a whole, we might imagine watching every possible input vector move over to its corresponding output vector. \n",
    "<img src='img/la_pic25.png'>\n",
    "\n",
    "It gets really crowded to think about all of the vectors all at once, each one as an arrow, so a nice trick is to conceptualize each vector, not as an arrow, but as a single point, the point where its tip sits. That way, to think about a transformation taking every possible input vector to some output vector, we watch every point in space moving to some other point.\n",
    "\n",
    "<img src='img/la_pic26.png'>"
   ]
  },
  {
   "cell_type": "markdown",
   "metadata": {},
   "source": [
    "<a id='transformations_2d'></a>\n",
    "### 2.3 Transformations in 2 dimensions\n",
    "\n",
    "Back to [section 2](#transformations) / Back to the [top](#top)\n",
    "\n",
    "In the case of transformations in 2 dimensions, to get a better feel for the whole \"shape\" of the transformation, I like to do this with all of the points on an infinite grid.\n",
    "\n",
    "<img src='img/la_pic27.png'>\n",
    "\n",
    "I also sometimes like to keep a copy of the grid in the background, just to help keep track of where everything ends up relative to where it starts.\n",
    "\n",
    "<img src='img/la_pic28.png'>"
   ]
  },
  {
   "cell_type": "markdown",
   "metadata": {},
   "source": [
    "<a id='transformations_examples'></a>\n",
    "### 2.4 Examples of transformations\n",
    "\n",
    "Back to [section 2](#transformations) / Back to the [top](#top)\n",
    "\n",
    "The effect for various transformations, moving around all the points in space, is, you've gotta admit, beautiful.\n",
    "\n",
    "<img src='img/la_pic29.png'>\n",
    "\n",
    "<img src='img/la_pic30.png'>\n",
    "\n",
    "It gives a feeling of squishing and morphing space itself.\n",
    "\n",
    "<img src='img/la_pic31.png'>"
   ]
  },
  {
   "cell_type": "markdown",
   "metadata": {},
   "source": [
    "<a id='linear_transformations'></a>\n",
    "### 2.5 Linear transformations\n",
    "\n",
    "Back to [section 2](#transformations) / Back to the [top](#top)\n",
    "\n",
    "As you can imagine, arbitrary transformations can look quite complicated. But luckily, linear algebra limits itself to a special type of transformations, ones that are easier to understand called **linear transformations**.\n",
    "\n",
    "Visually speaking, a transformation is linear if it has two properties: **all lines must remain lines without getting curved** and the **origin must remain fixed in place**.\n",
    "\n",
    "For example, this right here would **not** be a linear transformation since the lines get all curvy.\n",
    "\n",
    "<img src='img/la_pic32.png'>\n",
    "\n",
    "---\n",
    "\n",
    "Here, although it keeps the line straight, is **not** a linear transformation because it moves the origin.\n",
    "\n",
    "<img src='img/la_pic33.png'>\n",
    "\n",
    "---\n",
    "\n",
    "This one here fixes the origin and might look like it keeps the line straight, but that's just because I'm only showing the horizontal and vertical grid lines. When you see what it does to a diagonal line,it becomes clear that it's not at all linear.\n",
    "\n",
    "<img src='img/la_pic34.png'>\n",
    "\n",
    "---\n",
    "\n",
    "In general, you should **think of linear transformations as keeping lines parallel and evenly spaced**.\n",
    "\n",
    "<img src='img/la_pic35.png'>"
   ]
  },
  {
   "cell_type": "markdown",
   "metadata": {},
   "source": [
    "<a id='describing_transformations_numerically'></a>\n",
    "### 2.6 Describing transformations numerically\n",
    "\n",
    "Back to [section 2](#transformations) / Back to the [top](#top)\n",
    "\n",
    "Some linear transformations are simple to think about, like rotations about the origin.\n",
    "\n",
    "<img src='img/la_pic36.png'>\n",
    "\n",
    "---"
   ]
  },
  {
   "cell_type": "markdown",
   "metadata": {},
   "source": [
    "Other are a little trickier to describe with words.\n",
    "\n",
    "<img src='img/la_pic37.png'>\n",
    "\n",
    "<img src='img/la_pic38.png'>\n",
    "\n",
    "---"
   ]
  },
  {
   "cell_type": "markdown",
   "metadata": {},
   "source": [
    "So **how do you describe these transformations numerically?** If you were, say, programming a video teaching the topic, what formula do you give a computer so that if you give it the coordinates of a vector, it can give you the coordinates of where that vector lands?\n",
    "\n",
    "Turns out that **you only need to record where the two basis vectors, $\\hat{i}$ and $\\hat{j}$ each land**.\n",
    "\n",
    "<img src='img/la_pic39.png'>"
   ]
  },
  {
   "cell_type": "markdown",
   "metadata": {},
   "source": [
    "For example, consider the vector $\\vec{v}$ with coordinates $(-1, 2)$, meaning that it equals $-1$ times $\\hat{i}$ and $+2$ time $\\hat{j}$. \n",
    "\n",
    "<img src='img/la_pic40.png'>"
   ]
  },
  {
   "cell_type": "markdown",
   "metadata": {},
   "source": [
    "If we play some transformation and follow where all three of these vectors go, the property that the grid lines remain parallel and evenly spaced has a really important consequence: the place where $v$ lands will be $-1$ times the vector where $\\hat{i}$ landed plus 2 times the vector where $\\hat{j}$ landed.\n",
    "\n",
    "$ \\vec{v} = -\\hat{i} + 2\\hat{j} $\n",
    "\n",
    "$ Transformed~\\vec{v} = -1(Transformed~\\vec{i}) + 2(Transformed~\\vec{j}) $\n",
    "\n",
    "<img src='img/la_pic41.png'>"
   ]
  },
  {
   "cell_type": "markdown",
   "metadata": {},
   "source": [
    "<a id='finding_v'></a>\n",
    "### 2.7 Deducing the new location of a vector $\\vec{v}$ after a transformation\n",
    "\n",
    "Back to [section 2](#transformations) / Back to the [top](#top)\n",
    "\n",
    "In other words, it started off as a certain [linear combination](#linear_combination) of $\\hat{i}$ and $\\hat{j}$ and it ends up in that same linear combination of where those two vectors landed. This means **you can deduce where $\\vec{v}$ must go based only on where $\\hat{i}$ and $\\hat{j}$ each land.**\n",
    "\n",
    "<img src='img/la_pic42.png'>"
   ]
  },
  {
   "cell_type": "markdown",
   "metadata": {},
   "source": [
    "This is why I like to keep a copy of the original grid in the background. For the transformation shown here we can read off that $\\hat{i}$ lands on coordinates $\\begin{bmatrix} 1 \\\\ -2 \\end{bmatrix}$ and $\\hat{j}$ lands on coordinates $\\begin{bmatrix} 3 \\\\ 0 \\end{bmatrix}$. This means that the vector represented by $(-1)\\hat{i} + 2\\hat{j}$ ends up at $(-1)$ times the vector $\\begin{bmatrix} 1 \\\\ -2 \\end{bmatrix}$ + $2$ times the vector $\\begin{bmatrix} 3 \\\\ 0 \\end{bmatrix}$. Having that all together, you can deduce that it has to land on the vector $\\begin{bmatrix} 5 \\\\ 2 \\end{bmatrix}$."
   ]
  },
  {
   "cell_type": "markdown",
   "metadata": {},
   "source": [
    "$ \\hat{i_1} = \\hat{i_0} - 2\\hat{j_0} = \\begin{bmatrix} 1 \\\\ -2 \\end{bmatrix} $\n",
    "\n",
    "\n",
    "$ \\hat{j_1} = 3\\hat{i_0} = \\begin{bmatrix} 3 \\\\ 0 \\end{bmatrix}$\n",
    "\n",
    "$ \\vec{v_0} = -\\hat{i_0} + 2\\hat{j_0} $\n",
    "\n",
    "$ \\vec{v_1} = -\\hat{i_1} + 2\\hat{j_1} = -(\\hat{i_0} - 2\\hat{j_0}) + 2(3\\hat{i_0}) = -\\hat{i_0} + 2\\hat{j_0} + 6\\hat{i_0} = 5\\hat{i_0} + 2\\hat{j_0} $\n",
    "\n",
    "Or the same can be written in $i_0$ - $j_0$ base vector pair coordinates as:\n",
    "\n",
    "$ \\vec{v_1} = \n",
    "(-1) \n",
    "\\cdot { \n",
    "\\begin{bmatrix} \n",
    "1 \\\\ \n",
    "-2 \n",
    "\\end{bmatrix} \n",
    "}  \n",
    "+ 2 \n",
    "\\cdot { \n",
    "\\begin{bmatrix} \n",
    "3 \\\\ \n",
    "0 \n",
    "\\end{bmatrix} }  \n",
    "= \\begin{bmatrix} \n",
    "-1 \\cdot{ 1 } \\\\ \n",
    "-1 \\cdot{ (-2) } \n",
    "\\end{bmatrix} \n",
    "+ \\begin{bmatrix} \n",
    "2 \\cdot{ 3 } \\\\ \n",
    "2 \\cdot{ 0 } \n",
    "\\end{bmatrix} \n",
    "= \\begin{bmatrix} \n",
    "-1 \\cdot{ 1 } + 2 \\cdot{ 3 } \\\\ \n",
    "-1 \\cdot{ (-2) } + 2\\cdot{0} \n",
    "\\end{bmatrix} \n",
    "= \\begin{bmatrix}\n",
    "5 \\\\\n",
    "2\n",
    "\\end{bmatrix} $"
   ]
  },
  {
   "cell_type": "markdown",
   "metadata": {},
   "source": [
    "<img src='img/la_pic43.png'>"
   ]
  },
  {
   "cell_type": "markdown",
   "metadata": {},
   "source": [
    "The cool part is that this gives us a technique to deduce where any vectors land, so long as we have a record of where $\\hat{i}$ and $\\hat{j}$ each land, without needing to watch the transformation itself.\n",
    "\n",
    "Write the vector with more general coordinates $x$ and $y$, and it will land on $x$ times the vector where $\\hat{i}$ lands, $\\begin{bmatrix} 1 \\\\ -2 \\end{bmatrix}$, $ + y$ times where $\\hat{j}$ lands, $\\begin{bmatrix} 3 \\\\ 0 \\end{bmatrix}$.\n",
    "\n",
    "<img src='img/la_pic44.png'>"
   ]
  },
  {
   "cell_type": "markdown",
   "metadata": {},
   "source": [
    "### Finding coordinates of a vector after a linear transformation knowing the new $\\hat{i}$ and $\\hat{j}$\n",
    "\n",
    "$ Transformation: \\begin{bmatrix} a & b \\\\ c & d \\end{bmatrix} $\n",
    "\n",
    "$ \\hat{i} \\to  \\begin{bmatrix} a \\\\ c \\end{bmatrix} \\quad \\hat{j} \\to \\begin{bmatrix} b \\\\ d \\end{bmatrix} $\n",
    "\n",
    "$ \\begin{bmatrix} \n",
    "x \\\\ \n",
    "y \n",
    "\\end{bmatrix} \n",
    "\\to \n",
    "x \n",
    "\\begin{bmatrix} \n",
    "a \\\\ \n",
    "c \n",
    "\\end{bmatrix} \n",
    "+ \n",
    "y \n",
    "\\begin{bmatrix} \n",
    "b \\\\ \n",
    "d \n",
    "\\end{bmatrix} \n",
    "= \n",
    "\\begin{bmatrix} \n",
    "ax \\\\ \n",
    "cx \n",
    "\\end{bmatrix} \n",
    "+ \n",
    "\\begin{bmatrix} \n",
    "by \\\\ \n",
    "dy \n",
    "\\end{bmatrix} \n",
    "= \n",
    "\\begin{bmatrix} \n",
    "ax + by \\\\ \n",
    "cx + dy \n",
    "\\end{bmatrix} $\n",
    "\n",
    "or,\n",
    "\n",
    "$ \\hat{i_1} = a\\hat{i_0} + c\\hat{j_0} \\quad \\hat{j_1} = b\\hat{i_0} + d\\hat{j_0} $\n",
    "\n",
    "$ \\vec{v_0} = x \\hat{i_0} + y \\hat{j_0} $\n",
    "\n",
    "$ \\vec{v_1} = x \\hat{i_1} + y \\hat{j_1} = x(a\\hat{i_0} + c\\hat{j_0}) + y(b\\hat{i_0} + d\\hat{j_0}) = ax\\hat{i_0} + cx\\hat{j_0} + by\\hat{i_0} + dy\\hat{j_0} $\n",
    "\n",
    "$ \\vec{v_1} = (ax + by)\\hat{i_0} + (cx + dy)\\hat{j_0} $"
   ]
  },
  {
   "cell_type": "markdown",
   "metadata": {},
   "source": [
    "<a id='lt_to_matrix'></a>\n",
    "### 2.8 Recording a linear transformation in a 2x2 matrix\n",
    "\n",
    "Back to [section 2](#transformations) / Back to the [top](#top)\n",
    "\n",
    "What all of this is saying is that a **2-dimensional linear transformation is completely described by just 4 numbers**: the **2 coordinates where $\\hat{i}$ lands and the 2 coordinates where $\\hat{j}$ lands**.\n",
    "\n",
    "It's **common to package these coordinates into a 2-by-2 grid** of numbers, called a **2x2 matrix**, where you can interpret the **columns as the 2 special vectors**, where $\\hat{i}$ and $\\hat{j}$ each land.\n",
    "\n",
    "<img src='img/la_pic45.png'>"
   ]
  },
  {
   "cell_type": "markdown",
   "metadata": {},
   "source": [
    "If you're given a 2-by-2 matrix describing a linear transformation and some specific vector, and you want to know where that linear transformation takes that vector, you can take the coordinates of the vector, mutliply them by the corresponding columns of the matrix, then add together what you get. This corresponds with the idea of adding the scaled versions of our new basis vectors.\n",
    "\n",
    "<img src='img/la_pic46.png'>"
   ]
  },
  {
   "cell_type": "markdown",
   "metadata": {},
   "source": [
    "<a id='lt_as_matrix_vector'></a>\n",
    "### 2.9 Linear transformation as a matrix-vector multiplication\n",
    "\n",
    "Back to [section 2](#transformations) / Back to the [top](#top)"
   ]
  },
  {
   "cell_type": "markdown",
   "metadata": {},
   "source": [
    ">Multiplying an $n$-dimensional vector by an $n\\times{n}$ matrix can be seen as the process of generation of $n$ new coordinates. For each of the new coordinates, each old coordinate gets a chance to contribute with a coefficient supplied by a corresponding item from a row of the matrix. Each row of the matrix corresponds to one of the $n$ output coordinates and has $n$ coefficients to be applied to each of the old coordinates.\n",
    "\n",
    ">The product of multiplying an $n$-dimensional vector by an $n\\times{n}$ matrix is a transformed $n$-dimensional vector."
   ]
  },
  {
   "cell_type": "markdown",
   "metadata": {},
   "source": [
    "#### Linear transformation as a 2x2 matrix in the most general case\n",
    "\n",
    "Lets see what it looks like in the most general case, where your matrix has entris $a$, $b$, $c$, $d$; and remember, this matrix is just a way of packaging the information needed to describe a linear transformation. \n",
    "\n",
    "Always remember to interpret the first column, $\\begin{bmatrix} a \\\\ c \\end{bmatrix}$ as the place where the first basis vector lands, and that second column, $\\begin{bmatrix} b \\\\ d \\end{bmatrix}$, as the place where the second basis vector lands.\n",
    "\n",
    "<img src='img/la_pic47.png'>"
   ]
  },
  {
   "cell_type": "markdown",
   "metadata": {},
   "source": [
    "When we apply this transformation to some vector $\\begin{bmatrix} x \\\\ y \\end{bmatrix}$, you get:\n",
    "\n",
    "<img src='img/la_pic48.png'>"
   ]
  },
  {
   "cell_type": "markdown",
   "metadata": {},
   "source": [
    "#### Linear transformation of a vector as a matrix-vector multiplication\n",
    "\n",
    "You can even define it as **matrix-vector multiplication**, when you put the **matrix on the left of the vector like it's a function**. Then, you can make highschoolers memorize this without showing them the **crucial part that makes it feel intuitive**.\n",
    "\n",
    "<img src='img/la_pic49.png'>"
   ]
  },
  {
   "cell_type": "markdown",
   "metadata": {},
   "source": [
    "Isn't it more fun to think of these columns as the transformed versions of your basis vectors and to think about the results as the appropriate linear combinations of those vectors?\n",
    "\n",
    "<img src='img/la_pic50.png'>"
   ]
  },
  {
   "cell_type": "markdown",
   "metadata": {},
   "source": [
    "### Finding coordinates of a vector after a linear transformation knowing the new $\\hat{i}$ and $\\hat{j}$\n",
    "\n",
    "$ M=\\begin{bmatrix} a & b \\\\ c & d \\end{bmatrix} $\n",
    "\n",
    "$ \\hat{i} \\to  \\begin{bmatrix} a \\\\ c \\end{bmatrix} \\quad \\hat{j} \\to \\begin{bmatrix} b \\\\ d \\end{bmatrix} $\n",
    "\n",
    "$\\vec{v} = \\begin{bmatrix} x \\\\ y \\end{bmatrix}$\n",
    "\n",
    "$ M\\vec{v} = \n",
    "\\begin{bmatrix} a & b \\\\ c & d \\end{bmatrix} \n",
    "\\begin{bmatrix} x \\\\ y \\end{bmatrix} \n",
    "=\n",
    "x \n",
    "\\begin{bmatrix} a \\\\ c \\end{bmatrix} \n",
    "+ \n",
    "y \n",
    "\\begin{bmatrix} b \\\\ d \\end{bmatrix} \n",
    "= \n",
    "\\begin{bmatrix} ax \\\\ cx \\end{bmatrix} \n",
    "+ \n",
    "\\begin{bmatrix} by \\\\ dy \\end{bmatrix} \n",
    "= \n",
    "\\begin{bmatrix} ax + by \\\\ cx + dy \\end{bmatrix} $"
   ]
  },
  {
   "cell_type": "markdown",
   "metadata": {},
   "source": [
    "<a id='lt_as_matrices_practice'></a>\n",
    "### 2.10 Describing linear transformations with matrices\n",
    "\n",
    "Back to [section 2](#transformations) / Back to the [top](#top)\n",
    "\n",
    "Let's practice describing linear transformations with matrices. \n",
    "\n",
    "### Rotating $90^\\circ$ counterclockwise\n",
    "\n",
    "For example, if we rotate all of space $90^\\circ$ counterclockwise, then $\\hat{i}$ lands on coordinates $(0, 1)$ and $\\hat{j}$ lands on coordinates $(-1, 0)$. So the matrix we end up with has columns $\\begin{bmatrix} 0 & -1 \\\\ 1 & 0 \\end{bmatrix} $.\n",
    "\n",
    "<img src='img/la_pic51.png'>"
   ]
  },
  {
   "cell_type": "markdown",
   "metadata": {},
   "source": [
    "To figure out what happens to any vector after a $90^\\circ$ rotation, you could just **multiply its coordinates by this matrix**.\n",
    "\n",
    "<img src='img/la_pic52.png'>"
   ]
  },
  {
   "cell_type": "markdown",
   "metadata": {},
   "source": [
    "#### Transformation: rotating a vector by $90^\\circ$\n",
    "\n",
    "$ \\hat{i_1} = \\hat{j_0} \\quad \\hat{j_1} = -\\hat{i_0} $\n",
    "\n",
    "$ \\vec{v_0} = x\\hat{i_0} + y\\hat{j_0} $\n",
    "\n",
    "Due to linearity of the transformation:\n",
    "\n",
    "$ \\vec{v_1} = x\\hat{i_1} + y\\hat{j_1} = x\\hat{j_0} - y\\hat{i_0} = -y\\hat{i_0} + x\\hat{j_0} $\n",
    "\n",
    "or, in the matrix-vector multiplication form:\n",
    "\n",
    "$ \\hat{i_0} \\to \\begin{bmatrix} 0 \\\\ 1 \\end{bmatrix} \\quad \\hat{j_0} \\to \\begin{bmatrix} -1 \\\\ 0 \\end{bmatrix} $\n",
    "\n",
    "$ Transformation = \\begin{bmatrix} 0 & -1 \\\\ 1 & 0 \\end{bmatrix} $\n",
    "\n",
    "$ \\vec{v_0} = \\begin{bmatrix} x \\\\ y \\end{bmatrix} $\n",
    "\n",
    "$ \\vec{v_0} \n",
    "\\to \\vec{v_1} = \n",
    "\\begin{bmatrix} \n",
    "0 & -1 \\\\ \n",
    "1 & 0 \n",
    "\\end{bmatrix} \n",
    "\\begin{bmatrix} \n",
    "x \\\\ \n",
    "y \n",
    "\\end{bmatrix} \n",
    "= \n",
    "x\n",
    "\\begin{bmatrix} \n",
    "0 \\\\ \n",
    "1 \n",
    "\\end{bmatrix} \n",
    "+ \n",
    "y\n",
    "\\begin{bmatrix} \n",
    "-1 \\\\ \n",
    "0 \n",
    "\\end{bmatrix} \n",
    "=\n",
    "\\begin{bmatrix} \n",
    "x\\cdot{0} \\\\ \n",
    "x\\cdot{1} \n",
    "\\end{bmatrix} \n",
    "+ \n",
    "\\begin{bmatrix} \n",
    "y\\cdot{(-1)} \\\\ \n",
    "y\\cdot{0} \n",
    "\\end{bmatrix}\n",
    "=~~ \n",
    "=\n",
    "\\begin{bmatrix} \n",
    "x\\cdot{0} + y\\cdot{(-1)} \\\\ \n",
    "x\\cdot{1} + y\\cdot{0} \n",
    "\\end{bmatrix}\n",
    "=\n",
    "\\begin{bmatrix}\n",
    "-y \\\\\n",
    "x\n",
    "\\end{bmatrix}$"
   ]
  },
  {
   "cell_type": "markdown",
   "metadata": {},
   "source": [
    "### Shear\n",
    "\n",
    "Here's a fun transformation with a special name, called a **shear**. In it, **$\\hat{i}$ remains fixed**, so the first column of the matrix is $\\begin{bmatrix} 1 \\\\ 0 \\end{bmatrix}$, but $\\hat{j}$ moves over to coordinates $\\begin{bmatrix} 1 \\\\ 1 \\end{bmatrix}$, which become the second column of the matrix $\\begin{bmatrix} 1 \\\\ 1 \\end{bmatrix}$.\n",
    "\n",
    "<img src='img/la_pic53.png'>"
   ]
  },
  {
   "cell_type": "markdown",
   "metadata": {},
   "source": [
    "Figuring out how a **shear** transforms a given vector comes down to multiplying this matrix by that vector.\n",
    "\n",
    "<img src='img/la_pic54.png'>"
   ]
  },
  {
   "cell_type": "markdown",
   "metadata": {},
   "source": [
    "#### Transformation: shear\n",
    "\n",
    "$ \\hat{i_1} = \\hat{i_0} \\quad {and} \\quad \\hat{j_1} = \\hat{i_0} + \\hat{j_0} $\n",
    "\n",
    "$ \\vec{v_0} = x\\hat{i_0} + y\\hat{j_0} $\n",
    "\n",
    "Due to linearity of the transformation:\n",
    "\n",
    "$ \\vec{v_1} = x\\hat{i_1} + y\\hat{j_1} = x\\hat{i_0} + y(\\hat{i_0} + \\hat{j_0}) = x\\hat{i_0} + y\\hat{i_0} + y\\hat{j_0} = (x + y)\\hat{i_0} + y\\hat{j_0} $\n",
    "\n",
    "or, in the matrix-vector multiplication form:\n",
    "\n",
    "$ \\hat{i_0} \\to \\begin{bmatrix} 1 \\\\ 0 \\end{bmatrix} \\quad {and} \\quad \\hat{j_0} \\to \\begin{bmatrix} 1 \\\\ 1 \\end{bmatrix} $\n",
    "\n",
    "$ Transformation = \\begin{bmatrix} 1 & 1 \\\\ 0 & 1 \\end{bmatrix} $\n",
    "\n",
    "$ \\vec{v_0} = \\begin{bmatrix} x \\\\ y \\end{bmatrix} $\n",
    "\n",
    "$ \\vec{v_0} \\to \\vec{v_1} = \\begin{bmatrix} 1 & 1 \\\\ 0 & 1 \\end{bmatrix} \\begin{bmatrix} x \\\\ y \\end{bmatrix} = x \\begin{bmatrix} 1 \\\\ 0 \\end{bmatrix} + y \\begin{bmatrix} 1 \\\\ 1 \\end{bmatrix} = \\begin{bmatrix} x\\cdot{1} \\\\ x\\cdot{0} \\end{bmatrix} + \\begin{bmatrix} y\\cdot{1} \\\\ y\\cdot{1} \\end{bmatrix} = \\begin{bmatrix} x\\cdot{1} + y\\cdot{1} \\\\ x\\cdot{0} + y\\cdot{1} \\end{bmatrix} =~= \\begin{bmatrix} x + y \\\\ y \\end{bmatrix} $"
   ]
  },
  {
   "cell_type": "markdown",
   "metadata": {},
   "source": [
    "### Starting from the matrix\n",
    "\n",
    "Let's say we want to go the other way around, starting with the matrix, say with columns $\\begin{bmatrix} 1 \\\\ 2 \\end{bmatrix}$ and $\\begin{bmatrix} 3 \\\\ 1 \\end{bmatrix}$, and we want to deduce what its transformation looks like. One way to do this is to first move $\\hat{i}$ to $(1, 2)$, then move $\\hat{j}$ to $(3, 1)$, always moving the rest of the space in such a way that keeps the grid lines parallel and evenly spaced.\n",
    "\n",
    "<img src='img/la_pic55.png'>"
   ]
  },
  {
   "cell_type": "markdown",
   "metadata": {},
   "source": [
    "#### Transformation: starting from the matrix\n",
    "\n",
    "$ Transformation = \\begin{bmatrix} 1 & 3 \\\\ 2 & 1 \\end{bmatrix} $\n",
    "\n",
    "This can be broken down into basis vectors of the new coordinate system (each row of the tranformation matrix is a new unit vector in the old coordinates):\n",
    "\n",
    "$ \\hat{i_1} = \\begin{bmatrix} 1 \\\\ 2 \\end{bmatrix} \\quad {and} \\quad \\hat{j_1} = \\begin{bmatrix} 3 \\\\ 1 \\end{bmatrix} $\n",
    "\n",
    "or, using the old basis vectors:\n",
    "\n",
    "$ \\hat{i_1} = \\hat{i_0} + 2\\hat{j_0} \\quad {and} \\quad \\hat{j_1} = 3\\hat{i_0} + \\hat{j_0} $\n",
    "\n",
    "$ \\vec{v_0} = x\\hat{i_0} + y\\hat{j_0} $\n",
    "\n",
    "Due to the linearity of transformation:\n",
    "\n",
    "$ \\vec{v_1} = x\\hat{i_1} + y\\hat{j_1} = x(\\hat{i_0} + 2\\hat{j_0}) + y(3\\hat{i_0} + \\hat{j_0}) = x\\hat{i_0} + 2x\\hat{j_0} + 3y\\hat{i_0} + y\\hat{j_0} = (x + 3y)\\hat{i_0} + (2x + y)\\hat{j_0} $\n",
    "\n",
    "or, in the matrix-vector multiplication form:\n",
    "\n",
    "$ Transformation = \\begin{bmatrix} 1 & 3 \\\\ 2 & 1 \\end{bmatrix} $\n",
    "\n",
    "$ \\vec{v_0} = \\begin{bmatrix} x \\\\ y \\end{bmatrix} $\n",
    "\n",
    "$ \\vec{v_0} \\to \\vec{v_1} = \\begin{bmatrix} 1 & 3 \\\\ 2 & 1 \\end{bmatrix} \\begin{bmatrix} x \\\\ y \\end{bmatrix} = x \\begin{bmatrix} 1 \\\\ 2 \\end{bmatrix} + y \\begin{bmatrix} 3 \\\\ 1 \\end{bmatrix} = \\begin{bmatrix} x\\cdot{1} \\\\ x\\cdot{2} \\end{bmatrix} + \\begin{bmatrix} y\\cdot{3} \\\\ y\\cdot{1} \\end{bmatrix} = \\begin{bmatrix} x\\cdot{1} + y\\cdot{3} \\\\ x\\cdot{2} + y\\cdot{1} \\end{bmatrix} = \\begin{bmatrix} x + 3y \\\\ 2x + y \\end{bmatrix} $"
   ]
  },
  {
   "cell_type": "markdown",
   "metadata": {},
   "source": [
    "### Starting from the matrix with linearly dependent columns\n",
    "\n",
    "If the vectors that $\\hat{i}$ and $\\hat{j}$ land on are [linearly dependent](#linearly_dependent_vectors), which means that one is a scaled version of the other, it means that linear transformation squishes all of 2-d space onto the line where those two vectors sit, also known as the **1-dimensional span of those two linearly dependent vectors**.\n",
    "\n",
    "<img src='img/la_pic56.png'>"
   ]
  },
  {
   "cell_type": "markdown",
   "metadata": {},
   "source": [
    "#### Transformation: linearly dependent columns\n",
    "\n",
    "$ Transformation = \\begin{bmatrix} 2 & -2 \\\\ 1 & -1 \\end{bmatrix} $\n",
    "\n",
    "$ \\hat{i_1} = \\begin{bmatrix} 2 \\\\ 1 \\end{bmatrix} \\quad {and} \\quad \\hat{j_1} = \\begin{bmatrix} -2 \\\\ -1 \\end{bmatrix} $\n",
    "\n",
    "$ \\hat{i_1} = 2\\hat{i_0} + \\hat{j_0} \\quad {and} \\quad \\hat{j_1} = -2\\hat{i_0} - \\hat{j_0} $\n",
    "\n",
    "$ \\vec{v_0} = x\\hat{i_0} + y\\hat{j_0} $\n",
    "\n",
    "Due to linearity of the transformation:\n",
    "\n",
    "$ \\vec{v_1} = x\\hat{i_1} + y\\hat{j_1} = x(2\\hat{i_0} + \\hat{j_0}) + y(-2\\hat{i_0} - \\hat{j_0}) = 2x\\hat{i_0} + x\\hat{j_0} - 2y\\hat{i_0} - y\\hat{j_0} = 2(x - y)\\hat{i_0} + (x - y)\\hat{j_0} $\n",
    "\n",
    "or, in the matrix-vector multiplication form:\n",
    "\n",
    "$ Transformation = \\begin{bmatrix} 2 & -2 \\\\ 1 & -1 \\end{bmatrix} $\n",
    "\n",
    "$ \\vec{v_0} = \\begin{bmatrix} x \\\\ y \\end{bmatrix} $\n",
    "\n",
    "$ \\vec{v_1} = \\begin{bmatrix} 2 & -2 \\\\ 1 & -1 \\end{bmatrix} \\begin{bmatrix} x \\\\ y \\end{bmatrix} = x \\begin{bmatrix} 2 \\\\ 1 \\end{bmatrix} + y \\begin{bmatrix} -2 \\\\ -1 \\end{bmatrix} = \\begin{bmatrix} x\\cdot{2} \\\\ x\\cdot{1} \\end{bmatrix} + \\begin{bmatrix} y\\cdot{(-2)} \\\\ y\\cdot{(-1)} \\end{bmatrix} = \\begin{bmatrix} x\\cdot{2} + y\\cdot{(-2)} \\\\ x\\cdot{1} + y\\cdot{(-1)} \\end{bmatrix} = ~ = \\begin{bmatrix} 2x - 2y \\\\ x - y \\end{bmatrix}$\n",
    "\n"
   ]
  },
  {
   "cell_type": "markdown",
   "metadata": {},
   "source": [
    "<a id='transformations_summary'></a>\n",
    "### 2.11 Summary\n",
    "\n",
    "Back to [section 2](#transformations) / Back to the [top](#top)\n",
    "\n",
    "To sum up, linear transformations are a way to move around space such that grid lines remain parallel and evenly spaced and such that the origin remains fixed.\n",
    "\n",
    "<img src='img/la_pic35.png'>"
   ]
  },
  {
   "cell_type": "markdown",
   "metadata": {},
   "source": [
    "Delightfully, these transformations can be used using only a handful of numbers: the coordinates of where each basis vector lands.\n",
    "\n",
    "Matrices give us a language to describe these transformations where the columns represent those coordinates.\n",
    "\n",
    "<img src='img/la_pic45.png'>"
   ]
  },
  {
   "cell_type": "markdown",
   "metadata": {},
   "source": [
    "And matrix-vector multiplication is just a way to compute what that transformation does to a given vector.\n",
    "\n",
    "<img src='img/la_pic49.png'>"
   ]
  },
  {
   "cell_type": "markdown",
   "metadata": {},
   "source": [
    "<a id='transformations_important_takeaway'></a>\n",
    "### 2.12 Important takeaway\n",
    "\n",
    "Back to [section 2](#transformations) / Back to the [top](#top)\n",
    "\n",
    "The important takeaway here is that, every time you see a **matrix**, \n",
    "\n",
    "<img src='img/la_pic57.png'>"
   ]
  },
  {
   "cell_type": "markdown",
   "metadata": {},
   "source": [
    "you can interpret it as a **certain transformation of space**:\n",
    "\n",
    "<img src='img/la_pic58.png'>\n",
    "\n",
    "Once you really digest this idea, you're in a great position to understand linear algebra deeply."
   ]
  },
  {
   "cell_type": "markdown",
   "metadata": {},
   "source": [
    "<a id='matrices'></a>\n",
    "## 3. Matrices\n",
    "\n",
    "Back to the [top](#top)\n",
    "\n",
    "[3.1 Applying 2 transformations to a vector: first rotate, then shear](#2_transformations_rs)\n",
    "\n",
    "[3.2 Applying 2 transformations to a vector: composite matrix](#2_transformations_comp)\n",
    "\n",
    "[3.3 Matrix multiplication](#matrix_multiplication)\n",
    "\n",
    "[3.4 Linear transformations in 3 dimensions](#linear_transformations_3d)\n",
    "\n",
    "[3.5 Deducing the location of a vector after a transformation in 3-d](#finding_v_3d)\n",
    "\n",
    "[3.6 Multiplying 2 matrices in 3 dimensions](#matrix_multiplication_3d)\n",
    "\n",
    "[3.7 Transformation of areas](#transformation_of_areas)\n",
    "\n",
    "[3.8 Transformation of shapes](#transformation_of_shapes)\n",
    "\n",
    "[3.9 Determinant](#determinant)\n",
    "\n",
    "[3.10 Determinant is 0: transformation to a smaller dimension](#determinant_0)\n",
    "\n",
    "[3.11 Negative determinant](#negative_determinant)\n",
    "\n",
    "[3.12 Why negative determinant describes orientation flipping?](#why_negative_determinant)\n",
    "\n",
    "[3.13 Determinant in 3 dimensions](#determinant_3d)\n",
    "\n",
    "[3.14 Determinant is 0 in 3-d: linearly dependent columns](#determinant_0_3d)\n",
    "\n",
    "[3.15 Negative determinant in 3 dimensions](#negative_determinant_3d)\n",
    "\n",
    "[3.16 Computing the determinant of a matrix in 2 dimensions](#compute_determinant_2d)\n",
    "\n",
    "[3.17 Computing the determinant of a matrix in 3 dimensions](#compute_determinant_3d)"
   ]
  },
  {
   "cell_type": "markdown",
   "metadata": {},
   "source": [
    "A matrix represents a specific linear transformation.\n",
    "\n",
    "<img src='img/la_pic49.png' width=600>\n",
    "\n",
    "Multiplying a matrix by a vector is what it means computationally to apply that transformation to that vector.\n",
    "\n",
    "<img src='img/la_pic59.png' width=600>"
   ]
  },
  {
   "cell_type": "markdown",
   "metadata": {},
   "source": [
    "<a id='2_transformations_rs'></a>\n",
    "### 3.1 Applying 2 transformations to a vector: first rotate, then shear\n",
    "\n",
    "Back to [section 3](#matrices) / Back to the [top](#top)\n",
    "\n",
    "Often times you find yourself wanting to describe the effect of applying one transformation and then another. For example, maybe you want to describe what happens when you first rotate the plane $90^\\circ$ counterclockwise, then apply a shear.\n",
    "\n",
    "<img src='img/la_pic60.png'>\n",
    "\n",
    "The overall effect here, from start to finish, is another linear transformation, distinct from the rotation and the shear.\n",
    "\n",
    "One of the ways to deduce its effect is to first apply $90^\\circ$ rotation to input vector and then to apply shear to the result of the first transformation."
   ]
  },
  {
   "cell_type": "markdown",
   "metadata": {},
   "source": [
    "Input vector $\\vec{v_0}$ with coordinates $(x, y)$ in the original coordinate system $\\begin{bmatrix} i_0 & j_0 \\end{bmatrix}$:\n",
    "\n",
    "$ \\vec{v_0} = \\begin{bmatrix} 1 & 0 \\\\ 0 & 1 \\end{bmatrix} \\begin{bmatrix} x \\\\ y \\end{bmatrix} = x \\begin{bmatrix} 1 \\\\ 0 \\end{bmatrix} + y \\begin{bmatrix} 0 \\\\ 1 \\end{bmatrix} = \\begin{bmatrix} x\\cdot{1} \\\\ x\\cdot{0} \\end{bmatrix} + \\begin{bmatrix} y\\cdot{0} \\\\ y\\cdot{1} \\end{bmatrix} = \\begin{bmatrix} x\\cdot{1} + y\\cdot{0} \\\\ x\\cdot{0} + y\\cdot{1} \\end{bmatrix} = \\begin{bmatrix} x \\\\ y \\end{bmatrix} $"
   ]
  },
  {
   "cell_type": "markdown",
   "metadata": {},
   "source": [
    "#### The long way: first rotate, then apply shear"
   ]
  },
  {
   "cell_type": "markdown",
   "metadata": {},
   "source": [
    "#### Transformation 1: rotation\n",
    "\n",
    "Applying $90^\\circ$ rotation to input vector $\\vec{v_0}$: $ \\vec{v_0} \\to \\vec{v_1} $\n",
    "\n",
    "<img src='img/tran_90_deg.png' width=300>"
   ]
  },
  {
   "cell_type": "markdown",
   "metadata": {},
   "source": [
    "$ \\hat{i_0} = \\begin{bmatrix} 1 \\\\ 0 \\end{bmatrix} \\quad {and} \\quad \\hat{j_0} = \\begin{bmatrix} 0 \\\\ 1 \\end{bmatrix} $\n",
    "\n",
    "From the diagram of the transformation:\n",
    "\n",
    "$ \\hat{i_0} \\to \\hat{i_1} = \\begin{bmatrix} 0 \\\\ 1 \\end{bmatrix} \\quad {and} \\quad \\hat{j_0} \\to \\hat{j_1} = \\begin{bmatrix} -1 \\\\ 0 \\end{bmatrix} $\n",
    "\n",
    "$ Transformation = \\begin{bmatrix} i_1 & j_1 \\end{bmatrix} = \\begin{bmatrix} 0 & -1 \\\\ 1 & 0 \\end{bmatrix} $\n",
    "\n",
    "$ \\vec{v_0} = \\begin{bmatrix} x \\\\ y \\end{bmatrix} $\n",
    "\n",
    "$ \\vec{v_0} \\to \\vec{v_1} = \\begin{bmatrix} 0 & -1 \\\\ 1 & 0 \\end{bmatrix} \\begin{bmatrix} x \\\\ y \\end{bmatrix} = x \\begin{bmatrix} 0 \\\\ 1 \\end{bmatrix} + y \\begin{bmatrix} -1 \\\\ 0 \\end{bmatrix} = \\begin{bmatrix} x\\cdot{0} \\\\ x\\cdot{1} \\end{bmatrix} + \\begin{bmatrix} y\\cdot{(-1)} \\\\ y\\cdot{0} \\end{bmatrix} = ~ =  \\begin{bmatrix} x\\cdot{0} + y\\cdot{(-1)} \\\\ x\\cdot{1} + y\\cdot{0} \\end{bmatrix} = \\begin{bmatrix} -y \\\\ x \\end{bmatrix} $ "
   ]
  },
  {
   "cell_type": "markdown",
   "metadata": {},
   "source": [
    "Now, if we consider the basis of our new coordinate system as $ \\begin{bmatrix} i_1 & j_1 \\end{bmatrix} $, we can apply the shear transformation to the result of the 90 degree rotation.\n",
    "\n",
    "#### Transformation 2: shear\n",
    "\n",
    "Applying shear to the result of the first transformation $\\vec{v_1}$: $\\vec{v_1} \\to \\vec{v_2} $\n",
    "\n",
    "<img src='img/tran_shear.png' width=300>"
   ]
  },
  {
   "cell_type": "markdown",
   "metadata": {},
   "source": [
    "In this coordinate system $\\begin{bmatrix} i_1 & j_1 \\end{bmatrix}$: $\\hat{i_1} = \\begin{bmatrix} 1 \\\\ 0 \\end{bmatrix} \\quad {and} \\quad \\hat{j_1} = \\begin{bmatrix} 0 \\\\ 1 \\end{bmatrix} $\n",
    "\n",
    "From the diagram of the transformation, in the coordinate system of results of the first transformation:\n",
    "\n",
    "$\\hat{i_1} \\to \\hat{i_2} = \\begin{bmatrix} 1 \\\\ 0 \\end{bmatrix} \\quad {and} \\quad \\hat{j_1} \\to \\hat{j_2} = \\begin{bmatrix} 1 \\\\ 1 \\end{bmatrix} $\n",
    "\n",
    "$ Transformation = \\begin{bmatrix} 1 & 1 \\\\ 0 & 1 \\end{bmatrix} $\n",
    "\n",
    "$ \\vec{v_1} = \\begin{bmatrix} -y \\\\ x \\end{bmatrix} $\n",
    "\n",
    "$ \\vec{v_1} \\to \\vec{v_2} = \\begin{bmatrix} 1 & 1 \\\\ 0 & 1 \\end{bmatrix} \\begin{bmatrix} -y \\\\ x \\end{bmatrix} = -y \\begin{bmatrix} 1 \\\\ 0 \\end{bmatrix} + x \\begin{bmatrix} 1 \\\\ 1 \\end{bmatrix} = \\begin{bmatrix} -y\\cdot{1} \\\\ -y\\cdot{0} \\end{bmatrix} + \\begin{bmatrix} x\\cdot{1} \\\\ x\\cdot{1} \\end{bmatrix} = \\begin{bmatrix} -y\\cdot{1} + x\\cdot{1} \\\\ -y\\cdot{0} + x\\cdot{1} \\end{bmatrix} = \\begin{bmatrix} -y + x \\\\ x \\end{bmatrix} $\n",
    "\n",
    "Thus, as a result of both transformations, input vector $\\vec{v_0}=\\begin{bmatrix} x \\\\ y \\end{bmatrix}$ would map onto vector $\\vec{v_2}=\\begin{bmatrix} x - y \\\\ x \\end{bmatrix}$"
   ]
  },
  {
   "cell_type": "markdown",
   "metadata": {},
   "source": [
    "<a id='2_transformations_comp'></a>\n",
    "### 3.2 Applying 2 transformations to a vector: composite matrix\n",
    "\n",
    "Back to [section 3](#matrices) / Back to the [top](#top)"
   ]
  },
  {
   "cell_type": "markdown",
   "metadata": {},
   "source": [
    "#### The long way recap\n",
    "\n",
    "Both transformations applied together have an overall effect equivalent to another linear transformation distinct from the two.\n",
    "\n",
    "If you take some vector and pump it through the rotation and then the shear, the long way to compute where it ends up is to, first, multiply it on the left by the rotation matrix \n",
    "\n",
    "$$\\begin{bmatrix} 0 & -1 \\\\ 1 & 0 \\end{bmatrix} \\begin{bmatrix} x \\\\ y \\end{bmatrix} $$\n",
    "\n",
    "then, take whatever you'll get and multiply that on the left by the shear matrix\n",
    "\n",
    "$$ \\begin{bmatrix} 1 & 1 \\\\ 0 & 1 \\end{bmatrix} \\left( \\begin{bmatrix} 0 & -1 \\\\ 1 & 0 \\end{bmatrix} \\begin{bmatrix} x \\\\ y \\end{bmatrix} \\right) $$\n",
    "\n",
    "This is, numerically speaking, what it means to apply a rotation and then a shear to a given vector."
   ]
  },
  {
   "cell_type": "markdown",
   "metadata": {},
   "source": [
    "#### Composition matrix from transormation diagram\n",
    "\n",
    "<img src='img/tran_90_deg+shear.png' width=400>\n",
    "\n",
    "Alternatively, we can look at the diagram and find the **composition** matrix that should produce the same effect as rotation and then shear when applied to an input vector $\\vec{v_0}$."
   ]
  },
  {
   "cell_type": "markdown",
   "metadata": {},
   "source": [
    "According to the diagram:\n",
    "\n",
    "$ \\hat{i_0} \\to \\hat{i_2} = \\begin{bmatrix} 1 \\\\ 1 \\end{bmatrix} \\quad {and} \\quad \\hat{j_0} \\to \\hat{j_2} = \\begin{bmatrix} -1 \\\\ 0 \\end{bmatrix} $\n",
    "\n",
    "Thus, the overall transformation can be recorded as:\n",
    "\n",
    "$ Transformation = \\begin{bmatrix} 1 & -1 \\\\ 1 & 0 \\end{bmatrix} $\n",
    "\n",
    "Input vector $\\vec{v_0} = \\begin{bmatrix} x \\\\ y \\end{bmatrix} $\n",
    "\n",
    "Applying the composite transformation:\n",
    "\n",
    "$ \\vec{v_0} \\to \\vec{v_2} = \\begin{bmatrix} 1 & -1 \\\\ 1 & 0 \\end{bmatrix} \\begin{bmatrix} x \\\\ y \\end{bmatrix} = x \\begin{bmatrix} 1 \\\\ 1 \\end{bmatrix} + y \\begin{bmatrix} -1 \\\\ 0 \\end{bmatrix} = \\begin{bmatrix} x\\cdot{1} \\\\ x\\cdot{1} \\end{bmatrix} + \\begin{bmatrix} y\\cdot{(-1)} \\\\ y\\cdot{0} \\end{bmatrix} = ~ = \\begin{bmatrix} x\\cdot{1} + y\\cdot{(-1)} \\\\ x\\cdot{1} + y\\cdot{0} \\end{bmatrix} = \\begin{bmatrix} x - y \\\\ x \\end{bmatrix} $"
   ]
  },
  {
   "cell_type": "markdown",
   "metadata": {},
   "source": [
    "#### The product of the 2 matrices\n",
    "\n",
    "The composition matrix from above is called the product of 2 matrices:\n",
    "\n",
    "$ \\begin{bmatrix} 1 & 1 \\\\ 0 & 1 \\end{bmatrix} \\begin{bmatrix} 0 & -1 \\\\ 1 & 0 \\end{bmatrix} = \\begin{bmatrix} 1 & -1 \\\\ 1 & 0 \\end{bmatrix} $\n",
    "\n",
    "Multiplying two matrices like this has a geometric meaning of applying first one transformation, then another.\n",
    "\n",
    "<img src='img/la_pic61.png' width=600>\n",
    "\n",
    "One thing that's kind of weird here, is that this has reading from right to left: you first apply the transformation represented by the matrix on the right, then you apply the transformation represented by the matrix on the left. This stems from function notation $$f(g(x))$$ since we write functions on the left of variables, so every time you compose two functions, you always have to read it right to left."
   ]
  },
  {
   "cell_type": "markdown",
   "metadata": {},
   "source": [
    "<a id='matrix_multiplication'></a>\n",
    "### 3.3 Matrix multiplication\n",
    "\n",
    "Back to [section 3](#matrices) / Back to the [top](#top)"
   ]
  },
  {
   "cell_type": "markdown",
   "metadata": {},
   "source": [
    ">Mutliplying an $n\\times{n}$ matrix by an $n\\times{n}$ matrix can be seen as multiplying $n$ base vectors obtained from the first matrix by the second matrix (applying the second transformation to the results of the first). The result is an $n\\times{n}$ matrix of $n$ new base vectors."
   ]
  },
  {
   "cell_type": "markdown",
   "metadata": {},
   "source": [
    "Lets apply to an input vector $\\vec{v_0}$ two transformations $M_1$ and $M_2$.\n",
    "\n",
    "Let $ M_1 = \\begin{bmatrix} 1 & -2 \\\\ 1 & 0 \\end{bmatrix} $ and $ M_2 = \\begin{bmatrix} 0 & 2 \\\\ 1 & 0 \\end{bmatrix} $\n",
    "\n",
    "Let us try to find the composition matrix, but this time using only the numerical notations. We can find the new basis vectors obtained from both transformations by applying the second transformation $M_2$ to basis vectors obtained after applying the first. \n",
    "\n",
    "We can find the new basis vectors $\\hat{i_1}$ and $\\hat{j_1}$ from the transformation matrix $M_1$: \n",
    "\n",
    "$\\hat{i_1} = \\begin{bmatrix} 1 \\\\ 1 \\end{bmatrix} \\quad \\text{and} \\quad \\hat{j_1} =  \\begin{bmatrix} -2 \\\\ 0 \\end{bmatrix}$.\n",
    "\n",
    "Multiplying these vectors by the second transformation matrix $M_2$, we get\n",
    "\n",
    "$ \\hat{i_2} = M_2 \\hat{i_1} = \\begin{bmatrix} 0 & 2 \\\\ 1 & 0 \\end{bmatrix} \\begin{bmatrix} 1 \\\\ 1 \\end{bmatrix} = 1 \\begin{bmatrix} 0 \\\\ 1 \\end{bmatrix} + 1 \\begin{bmatrix} 2 \\\\ 0 \\end{bmatrix} = \\begin{bmatrix} 0 + 2 \\\\ 1 + 0 \\end{bmatrix} = \\begin{bmatrix} 2 \\\\ 1 \\end{bmatrix} $\n",
    "\n",
    "and\n",
    "\n",
    "$ \\hat{j_2} = M_2 \\hat{j_1} = \\begin{bmatrix} 0 & 2 \\\\ 1 & 0 \\end{bmatrix} \\begin{bmatrix} -2 \\\\ 0 \\end{bmatrix} = -2 \\begin{bmatrix} 0 \\\\ 1 \\end{bmatrix} + 0 \\begin{bmatrix} 2 \\\\ 0 \\end{bmatrix} = \\begin{bmatrix} -2\\cdot{0} \\\\ -2\\cdot{1} \\end{bmatrix} = \\begin{bmatrix} 0 \\\\ -2 \\end{bmatrix} $\n",
    "\n",
    "So the composition matrix can be recorded as:\n",
    "\n",
    "$ \\begin{bmatrix} 0 & 2 \\\\ 1 & 0 \\end{bmatrix} \\begin{bmatrix} 1 & -2 \\\\ 1 & 0 \\end{bmatrix} = \\begin{bmatrix} 2 & 0 \\\\ 1 & -2 \\end{bmatrix} $"
   ]
  },
  {
   "cell_type": "markdown",
   "metadata": {},
   "source": [
    "#### Matrix multiplication in general form:\n",
    "\n",
    "Let $M_1 = \\begin{bmatrix} a_1 & b_1 \\\\ c_1 & d_1 \\end{bmatrix} \\quad \\text{and} \\quad M_2 = \\begin{bmatrix} a_2 & b_2 \\\\ c_2 & d_2 \\end{bmatrix} $\n",
    "\n",
    "Basis vectors $\\hat{i_1}$ and $\\hat{j_1}$ obtained by applying the first transformation to original basis vectors $\\hat{i_0}$ and $\\hat{j_0}$, from $M_1$:\n",
    "\n",
    "$ \\hat{i_0} \\to \\hat{i_1} = \\begin{bmatrix} a_1 \\\\ c_1 \\end{bmatrix} \\quad \\text{and} \\quad \\hat{j_0} \\to \\hat{j_1} = \\begin{bmatrix} b_1 \\\\ d_1 \\end{bmatrix} $\n",
    "\n",
    "Applying the second transformation to basis vectors $\\hat{i_1}$ and $\\hat{j_1}$ obtained after applying the first:\n",
    "\n",
    "$ \\hat{i_1} \\to \\hat{i_2} = M_2 \\hat{i_1} = \\begin{bmatrix} a_2 & b_2 \\\\ c_2 & d_2 \\end{bmatrix} \\begin{bmatrix} a_1 \\\\ c_1 \\end{bmatrix} = a_1 \\begin{bmatrix} a_2 \\\\ c_2 \\end{bmatrix} + c_1 \\begin{bmatrix} b_2 \\\\ d_2 \\end{bmatrix} = \\begin{bmatrix} a_1\\cdot{a_2} \\\\ a_1\\cdot{c_2} \\end{bmatrix} + \\begin{bmatrix} c_1\\cdot{b_2} \\\\ c_1\\cdot{d_2} \\end{bmatrix} = \\begin{bmatrix} a_1a_2 + c_1b_2 \\\\ a_1c_2 + c_1d_2 \\end{bmatrix} $\n",
    "\n",
    "$ \\hat{j_1} \\to \\hat{j_2} = M_2 \\hat{j_1} = \\begin{bmatrix} a_2 & b_2 \\\\ c_2 & d_2 \\end{bmatrix} \\begin{bmatrix} b_1 \\\\ d_1 \\end{bmatrix} = b_1 \\begin{bmatrix} a_2 \\\\ c_2 \\end{bmatrix} + d_1 \\begin{bmatrix} b_2 \\\\ d_2 \\end{bmatrix} = \\begin{bmatrix} b_1\\cdot{a_2} \\\\ b_1\\cdot{c_2} \\end{bmatrix} + \\begin{bmatrix} d_1\\cdot{b_2} \\\\ d_1\\cdot{d_2} \\end{bmatrix} = \\begin{bmatrix} b_1a_2 + d_1b_2 \\\\ b_1c_2 + d_1d_2 \\end{bmatrix} $\n",
    "\n",
    "So the product of two matrices can be recorded as:\n",
    "\n",
    "$ \\begin{bmatrix} a_2 & b_2 \\\\ c_2 & d_2 \\end{bmatrix} \\begin{bmatrix} a_1 & b_1 \\\\ c_1 & d_1 \\end{bmatrix} = \\begin{bmatrix} a_1a_2 + c_1b_2 & b_1a_2 + d_1b_2 \\\\ a_1c_2 + c_1d_2 & b_1c_2 + d_1d_2 \\end{bmatrix} $\n",
    "\n",
    "$ \\begin{bmatrix} 0 & 2 \\\\ 1 & 0 \\end{bmatrix} \\begin{bmatrix} 1 & -2 \\\\ 1 & 0 \\end{bmatrix} = \\begin{bmatrix} 1\\cdot{0} + 1\\cdot{2} & -2\\cdot{0} + 0\\cdot{2} \\\\ 1\\cdot{1} + 1\\cdot{0} & -2\\cdot{1} + 0\\cdot{0} \\end{bmatrix} = \\begin{bmatrix} 2 & 0 \\\\ 1 & -2 \\end{bmatrix} $"
   ]
  },
  {
   "cell_type": "markdown",
   "metadata": {},
   "source": [
    "<a id='linear_transformations_3d'></a>\n",
    "### 3.4 Linear transformations in 3 dimensions\n",
    "\n",
    "Back to [section 3](#matrices) / Back to the [top](#top)\n",
    "\n",
    "Up to this point we have discussud 2-dimensional transformations: transformations that take 2-dimensional vectors to other 2-dimensional vectors. We work in 2-dimensions mostly because it is easier to actually see on the screen and your mind around.\n",
    "\n",
    "But more importantly than that, once you get all the core ideas in 2-dimensions, they carry over pretty seamlessly to higher dimensions."
   ]
  },
  {
   "cell_type": "markdown",
   "metadata": {},
   "source": [
    "#### Transformations in 3 dimensions\n",
    "\n",
    "Consider a linear transformation with 3-dimensional vecots as inputs and 3-dimensional vectors as outputs.\n",
    "\n",
    "<img src='img/la_pic62.png' width=500>"
   ]
  },
  {
   "cell_type": "markdown",
   "metadata": {},
   "source": [
    "We can visualize this by smooshing sround all the points in 3-dimensional space, as represented by a grid, in such a way that keeps the gridlines parapllel and evenly spaced, and which fixes the origin in place.\n",
    "\n",
    "And just as with 2-dimensions, every point in space is really just a proxy for a vector who has its tip at that point and what we're really doing is thinking about input vectors moving over to their corresponing output.\n",
    "\n",
    "<img src='img/la_pic63.png' width=500>"
   ]
  },
  {
   "cell_type": "markdown",
   "metadata": {},
   "source": [
    "And just as with 2 dimensions, one of these transformations is completely described by where the basis vectors go. But now, there are 3 standard basis vectors that we typically use: the unit vector in the x-direction, $\\hat{i}$; the unit vector in the y-direction, $\\hat{j}$; and the new unit vector in the z-direction called $\\hat{k}$.\n",
    "\n",
    "<img src='img/la_pic64.png' width=500>"
   ]
  },
  {
   "cell_type": "markdown",
   "metadata": {},
   "source": [
    "In fact, i think it's easier to think about these transformations by only following those basis vectors, since the full 3-d grid representing all points can get kind of messy. \n",
    "\n",
    "By leaving a copy of the original axis in the background, we can think about the coordinates of where each of these 3 basis vectors lands, record the coordinates as the columns of a 3x3 matrix. This gives a matrix that completely describes the transformation using only 9 numbers.\n",
    "\n",
    "<img src='img/la_pic65.png'>"
   ]
  },
  {
   "cell_type": "markdown",
   "metadata": {},
   "source": [
    "As a simple example, consider the transformation that rotates space $90^\\circ$ around the y-axis. \n",
    "\n",
    "<img src='img/tran_90_deg_3d.png'>"
   ]
  },
  {
   "cell_type": "markdown",
   "metadata": {},
   "source": [
    "Applying this transformation takes $\\hat{i}$ to $\\hat{i} = \\begin{bmatrix} 0 \\\\ 0 \\\\ 1 \\end{bmatrix}$ on the z-axis; it does not move $\\hat{j}$ so it stays at $\\hat{j} = \\begin{bmatrix} 0 \\\\ 1 \\\\ 0 \\end{bmatrix}$, and then $\\hat{k}$ moves oves to the x-axis at $\\hat{k} = \\begin{bmatrix} -1 \\\\ 0 \\\\ 0 \\end{bmatrix}$.\n",
    "\n",
    "Those three sets of coordinates become the columns of the matrix that describes the rotation transformation:\n",
    "\n",
    "$ Transformation = \\begin{bmatrix} 0 & 0 & -1 \\\\ 0 & 1 & 0 \\\\ 1 & 0 & 0 \\end{bmatrix} $"
   ]
  },
  {
   "cell_type": "markdown",
   "metadata": {},
   "source": [
    "<a id='finding_v_3d'></a>\n",
    "### 3.5 Deducing location of a vector after a transformation in 3-d\n",
    "\n",
    "Back to [section 3](#matrices) / Back to the [top](#top)"
   ]
  },
  {
   "cell_type": "markdown",
   "metadata": {},
   "source": [
    ">Multiplying an $n$-dimensional vector by an $n\\times{n}$ matrix can be seen as the process of generation of $n$ new coordinates. For each of the new coordinates, each old coordinate gets a chance to contribute with a coefficient supplied by a corresponding item from a row of the matrix. Each row of the matrix corresponds to one of the $n$ output coordinates and has $n$ coefficients to be applied to each of the old coordinates.\n",
    "\n",
    ">The product of multiplying an $n$-dimensional vector by an $n\\times{n}$ matrix is a transformed $n$-dimensional vector."
   ]
  },
  {
   "cell_type": "markdown",
   "metadata": {},
   "source": [
    "To see where vector $\\vec{v}$ with coordinates $\\vec{v} = \\begin{bmatrix} x \\\\ y \\\\ z \\end{bmatrix}$ lands, the reasoning is almost identical to what it was for 2 dimensions -- each of those coordinates can be thought of as instructions for how to scale each basis vector, so that they add together to get your vector. And the important part, just like the 2-d case, is that this scaling and adding process works both before and after the transformation.\n",
    "\n",
    "<img src='img/la_pic66.png'>"
   ]
  },
  {
   "cell_type": "markdown",
   "metadata": {},
   "source": [
    "So, to see where your vector lands you multiply those coordinates by the corresponding columns of the matrix and then you add together the three results.\n",
    "\n",
    "$ \\begin{bmatrix} a_1 & b_1 & c_1 \\\\ a_2 & b_2 & c_2 \\\\ a_3 & b_3 & c_3 \\end{bmatrix} \\begin{bmatrix} x \\\\ y \\\\ z \\end{bmatrix} = x \\begin{bmatrix} a_1 \\\\ a_2 \\\\ a_3 \\end{bmatrix} + y \\begin{bmatrix} b_1 \\\\ b_2 \\\\ b_3 \\end{bmatrix} + z \\begin{bmatrix} c_1 \\\\ c_2 \\\\ c_3 \\end{bmatrix} = \\begin{bmatrix} x\\cdot{a_1} \\\\ x\\cdot{a_2} \\\\ x\\cdot{a_3} \\end{bmatrix} + \\begin{bmatrix} y\\cdot{b_1} \\\\ y\\cdot{b_2} \\\\ y\\cdot{b_3} \\end{bmatrix} + \\begin{bmatrix} z\\cdot{c_1} \\\\ z\\cdot{c_2} \\\\ z\\cdot{c_3} \\end{bmatrix} =  \\begin{bmatrix} x\\cdot{a_1} + y\\cdot{b_1} + z\\cdot{c_1} \\\\ x\\cdot{a_2} + y\\cdot{b_2} + z\\cdot{c_2} \\\\ x\\cdot{a_3} + y\\cdot{b_3} + z\\cdot{c_3} \\end{bmatrix} $"
   ]
  },
  {
   "cell_type": "markdown",
   "metadata": {},
   "source": [
    "<a id='matrix_multiplitcation_3d'></a>\n",
    "### 3.6 Multiplying 2 matrices in 3 dimensions\n",
    "\n",
    "Back to [section 3](#matrices) / Back to the [top](#top)"
   ]
  },
  {
   "cell_type": "markdown",
   "metadata": {},
   "source": [
    ">Mutliplying an $n\\times{n}$ matrix by an $n\\times{n}$ matrix can be seen as multiplying $n$ base vectors obtained from the first matrix by the second matrix (applying the second transformation to the results of the first). The result is an $n\\times{n}$ matrix of $n$ new base vectors."
   ]
  },
  {
   "cell_type": "markdown",
   "metadata": {},
   "source": [
    "Multiplying 2 matrices is also similar -- whenever you see 2 3x3 matrices getting multiplied together, you should imagine first applying the transformation encoded by the right one, then applying the transformation encoded by the left one.\n",
    "\n",
    "<img src='img/la_pic67.png'>"
   ]
  },
  {
   "cell_type": "markdown",
   "metadata": {},
   "source": [
    "It turns out that 3-d matrix multiplication is actually pretty important for field like **computer graphics** and **robotics**, since things like rotations in 3 dimensions can be pretty hard to describe, but they are easier to wrap your mind around if you can break them down as the composition of separate, easier to think about rotations."
   ]
  },
  {
   "cell_type": "markdown",
   "metadata": {},
   "source": [
    "### Multiplying 3x3 matrices numerically\n",
    "\n",
    "Performing this matrix multiplication numerically is, once again, pretty similar to the 2-dimensional case.\n",
    "\n",
    "Let \n",
    "$$ M_1 = \n",
    "\\begin{bmatrix} \\hat{i_1} & \\hat{i_1} & \\hat{k_1} \\end{bmatrix} \n",
    "= \n",
    "\\begin{bmatrix} a_1 & b_1 & c_1 \\\\ a_2 & b_2 & c_2 \\\\ a_3 & b_3 & c_3 \\end{bmatrix} $$\n",
    "$$\\text{and}$$\n",
    "$$ \n",
    "M_2 = \n",
    "\\begin{bmatrix} \\hat{i_2} & \\hat{j_2} & \\hat{k_2} \\end{bmatrix} \n",
    "= \n",
    "\\begin{bmatrix} d_1 & e_1 & f_1 \\\\ d_2 & e_2 & f_2 \\\\ d_3 & e_3 & f_3 \\end{bmatrix} $$\n",
    "\n",
    "Basis vector $\\hat{i_1}$ obtained after applying the first transformation $M_1$ to basis vector $\\hat{i_0}$, from matrix $M_1: \\hat{i_1} = \\begin{bmatrix} a_1 \\\\ a_2 \\\\ a_3 \\end{bmatrix}$\n",
    "\n",
    "Applying the second transformation to basis vector $\\hat{i_1}$ obtained after appying the first one:\n",
    "\n",
    "$\\begin{bmatrix} d_1 & e_1 & f_1 \\\\ d_2 & e_2 & f_2 \\\\ d_3 & e_3 & f_3 \\end{bmatrix} \n",
    "\\begin{bmatrix} a_1 \\\\ a_2 \\\\ a_3 \\end{bmatrix} \n",
    "= \n",
    "a_1 \\begin{bmatrix} d_1 \\\\ d_2 \\\\ d_3 \\end{bmatrix} \n",
    "+ \n",
    "a_2 \\begin{bmatrix} e_1 \\\\ e_2 \\\\ e_3 \\end{bmatrix} \n",
    "+ \n",
    "a_3 \\begin{bmatrix} f_1 \\\\ f_2 \\\\ f_3 \\end{bmatrix} \n",
    "=\n",
    "\\begin{bmatrix} a_1d_1 + a_2e_1 + a_3f_1 \\\\ a_1d_2 + a_2e_2 + a_3f_2 \\\\ a_1d_3 + a_2e_3 + a_3f_3 \\end{bmatrix} $\n",
    "\n",
    "Basis vector $\\hat{j_1}$ obtained after applying the first transformation $M_1$ to basis vector $\\hat{j_0}$, from matrix $M_1: \\hat{i_1} = \\begin{bmatrix} b_1 \\\\ b_2 \\\\ b_3 \\end{bmatrix}$\n",
    "\n",
    "Applying the second transformation to basis vector $\\hat{i_1}$ obtained after appying the first one:\n",
    "\n",
    "$\\begin{bmatrix} d_1 & e_1 & f_1 \\\\ d_2 & e_2 & f_2 \\\\ d_3 & e_3 & f_3 \\end{bmatrix} \n",
    "\\begin{bmatrix} b_1 \\\\ b_2 \\\\ b_3 \\end{bmatrix} \n",
    "= \n",
    "b_1 \\begin{bmatrix} d_1 \\\\ d_2 \\\\ d_3 \\end{bmatrix} \n",
    "+ \n",
    "b_2 \\begin{bmatrix} e_1 \\\\ e_2 \\\\ e_3 \\end{bmatrix} \n",
    "+ \n",
    "b_3 \\begin{bmatrix} f_1 \\\\ f_2 \\\\ f_3 \\end{bmatrix} \n",
    "=\n",
    "\\begin{bmatrix} b_1d_1 + b_2e_1 + b_3f_1 \\\\ b_1d_2 + b_2e_2 + b_3f_2 \\\\ b_1d_3 + b_2e_3 + b_3f_3 \\end{bmatrix} $\n",
    "\n",
    "Basis vector $\\hat{k_1}$ obtained after applying the first transformation $M_1$ to basis vector $\\hat{k_0}$, from matrix $M_1: \\hat{i_1} = \\begin{bmatrix} c_1 \\\\ c_2 \\\\ c_3 \\end{bmatrix}$\n",
    "\n",
    "Applying the second transformation to basis vector $\\hat{i_1}$ obtained after appying the first one:\n",
    "\n",
    "$\\begin{bmatrix} d_1 & e_1 & f_1 \\\\ d_2 & e_2 & f_2 \\\\ d_3 & e_3 & f_3 \\end{bmatrix} \n",
    "\\begin{bmatrix} c_1 \\\\ c_2 \\\\ c_3 \\end{bmatrix} \n",
    "= \n",
    "c_1 \\begin{bmatrix} d_1 \\\\ d_2 \\\\ d_3 \\end{bmatrix} \n",
    "+ \n",
    "c_2 \\begin{bmatrix} e_1 \\\\ e_2 \\\\ e_3 \\end{bmatrix} \n",
    "+ \n",
    "c_3 \\begin{bmatrix} f_1 \\\\ f_2 \\\\ f_3 \\end{bmatrix} \n",
    "=\n",
    "\\begin{bmatrix} c_1d_1 + c_2e_1 + c_3f_1 \\\\ c_1d_2 + c_2e_2 + c_3f_2 \\\\ c_1d_3 + c_2e_3 + c_3f_3 \\end{bmatrix} $\n",
    "\n",
    "The 3 new base vectors obtained by applying the second transformation to the basis vectors obtained by the first one, if recorded together, give us the product of multiplying matrices $M_1$ and $M_2$:\n",
    "\n",
    "$ M_2M_1 = \n",
    "\\begin{bmatrix} d_1 & e_1 & f_1 \\\\ d_2 & e_2 & f_2 \\\\ d_3 & e_3 & f_3 \\end{bmatrix} \n",
    "\\begin{bmatrix} a_1 & b_1 & c_1 \\\\ a_2 & b_2 & c_2 \\\\ a_3 & b_3 & c_3 \\end{bmatrix} \n",
    "= ~ = \n",
    "\\begin{bmatrix} \n",
    "a_1d_1 + a_2e_1 + a_3f_1 & b_1d_1 + b_2e_1 + b_3f_1 & c_1d_1 + c_2e_1 + c_3f_1 \\\\ \n",
    "a_1d_2 + a_2e_2 + a_3f_2 & b_1d_2 + b_2e_2 + b_3f_2 & c_1d_2 + c_2e_2 + c_3f_2 \\\\ \n",
    "a_1d_3 + a_2e_3 + a_3f_3 & b_1d_3 + b_2e_3 + b_3f_3 & c_1d_3 + c_2e_3 + c_3f_3 \n",
    "\\end{bmatrix}$"
   ]
  },
  {
   "cell_type": "markdown",
   "metadata": {},
   "source": [
    "<a id='transformation_of_areas'></a>\n",
    "### 3.7 Transformation of areas\n",
    "\n",
    "Back to [section 3](#matrices) / Back to the [top](#top)"
   ]
  },
  {
   "cell_type": "markdown",
   "metadata": {},
   "source": [
    "Some of the linear transformations seem to stretch space out while others squish it on in. One thing that turns out to be useful for understanding one of these transformations is to measure **exactly how much it stretches or squishes things**, more specifically, to measure the **factor by which the given region increases or decreases**.\n",
    "\n",
    "<img src='img/la_pic68.png' width=600>"
   ]
  },
  {
   "cell_type": "markdown",
   "metadata": {},
   "source": [
    "For example, look at the matrix $\\begin{bmatrix} 3 & 0 \\\\ 0 & 2 \\end{bmatrix}$. It scales $\\hat{i}$ by a factor of 3 and scales $\\hat{j}$ by a factor of 2.\n",
    "\n",
    "<img src='img/la_pic69.png' width=600>\n",
    "\n",
    "$\\begin{bmatrix} 3 & 0 \\\\ 0 & 2 \\end{bmatrix} \n",
    "\\begin{bmatrix} x \\\\ y \\end{bmatrix}\n",
    "=\n",
    "\\begin{bmatrix} x\\cdot{3} + y\\cdot{0} \\\\ x\\cdot{0} + y\\cdot{2} \\end{bmatrix}\n",
    "=\n",
    "\\begin{bmatrix} 3x \\\\ 2y \\end{bmatrix}$"
   ]
  },
  {
   "cell_type": "markdown",
   "metadata": {},
   "source": [
    "Now, if we focus our attention on the 1-by-1 square whose bottom sits on $\\hat{i}$ and whose left side sits on $\\hat{j}$\n",
    "\n",
    "<img src='img/la_pic70.png' width=600>"
   ]
  },
  {
   "cell_type": "markdown",
   "metadata": {},
   "source": [
    "After the transformation, this turns into a $2\\times{3}$ rectangle. Since this region started out with area 1 and ended up with area 6, we can see that the linear transformation has scaled its area by a factor of 6.\n",
    "\n",
    "<img src='img/la_pic71.png' width=600>"
   ]
  },
  {
   "cell_type": "markdown",
   "metadata": {},
   "source": [
    "Compare that to a shear, whose matrix is $\\begin{bmatrix} 1 & 1 \\\\ 0 & 1 \\end{bmatrix}$, meaning that $\\hat{i}$ stays in place and $\\hat{j}$ moves over to $(1, 1)$.\n",
    "\n",
    "<img src='img/tran_shear.png' width=400>\n",
    "\n",
    "$\n",
    "\\begin{bmatrix} 1 & 1 \\\\ 0 & 1 \\end{bmatrix} \n",
    "\\begin{bmatrix} x \\\\ y \\end{bmatrix} \n",
    "= \n",
    "\\begin{bmatrix} x\\cdot{1} + y\\cdot{1} \\\\ x\\cdot{0} + y\\cdot{1} \\end{bmatrix}\n",
    "=\n",
    "\\begin{bmatrix} x + y \\\\ y \\end{bmatrix}$"
   ]
  },
  {
   "cell_type": "markdown",
   "metadata": {},
   "source": [
    "That same unit square determined by $\\hat{i}$ and $\\hat{j}$ gets slanted and turned into a parallelogram, but the area of that parallelogram is still 1, since its base and height each continue to have length 1. So even though this transformation smushes things about, it seems to leave areas unchanged. At least, in the case of that one unit square.\n",
    "\n",
    "<img src='img/la_pic72.png' width=600>"
   ]
  },
  {
   "cell_type": "markdown",
   "metadata": {},
   "source": [
    "<a id='transformation_of_shapes'></a>\n",
    "### 3.8 Transformation of shapes\n",
    "\n",
    "Back to [section 3](#matrices) / Back to the [top](#top)"
   ]
  },
  {
   "cell_type": "markdown",
   "metadata": {},
   "source": [
    "Actually though, if you know how much the area of that one single unit square changes, it can tell you how any possible region in space changes. For starters, notice that whatever happens to one square in the grid, has to happen in any other square in the grid, no matter the size. This follows from the fact that grid lines remain parallel and evenly spaced.\n",
    "\n",
    "<img src='img/la_pic73.png' width=600>"
   ]
  },
  {
   "cell_type": "markdown",
   "metadata": {},
   "source": [
    "Then, any shape that is not a grid square, can be approximated by grid squares pretty well, with arbitrarily good approximations if you use small enough grid squares.\n",
    "\n",
    "<img src='img/la_pic74.png' width=600>"
   ]
  },
  {
   "cell_type": "markdown",
   "metadata": {},
   "source": [
    "So, since the areas of all those tiny grid squares are being scaled by some single amount, the area of the blob as a whole will also be scaled by that same single amount.\n",
    "\n",
    "<img src='img/la_pic75.png' width=600>"
   ]
  },
  {
   "cell_type": "markdown",
   "metadata": {},
   "source": [
    "<a id='determinant'></a>\n",
    "### 3.9 Determinant\n",
    "\n",
    "Back to [section 3](#matrices) / Back to the [top](#top)"
   ]
  },
  {
   "cell_type": "markdown",
   "metadata": {},
   "source": [
    ">Determinant can be seen as the area scaling factor of the transformation, with negative determinant values signalling that the transformation also inverts orientation of space."
   ]
  },
  {
   "cell_type": "markdown",
   "metadata": {},
   "source": [
    "This very special scaling factor, the factor by which a linear transformation changes any area, is called the **determinant** of that transformation.\n",
    "\n",
    "<img src='img/la_pic76.png' width=600>\n",
    "\n",
    "<img src='img/la_pic77.png' width=600>"
   ]
  },
  {
   "cell_type": "markdown",
   "metadata": {},
   "source": [
    "For example, the determinant of the transformation will be $3$ if that transformation increases the area of a region by a factor of $3$.\n",
    "\n",
    "<img src='img/la_pic78.png' width=600>"
   ]
  },
  {
   "cell_type": "markdown",
   "metadata": {},
   "source": [
    "The determinant of the transformation will be $0.5$ if it squishes down all areas by a factor of $0.5$.\n",
    "\n",
    "<img src='img/la_pic79.png' width=600>"
   ]
  },
  {
   "cell_type": "markdown",
   "metadata": {},
   "source": [
    "<a id='determinant_0'></a>\n",
    "### 3.10 Determinant is 0: transformation to a smaller dimension \n",
    "\n",
    "Back to [section 3](#matrices) / Back to the [top](#top)"
   ]
  },
  {
   "cell_type": "markdown",
   "metadata": {},
   "source": [
    "And the determinant of the transformation is $0$ if it squishes down all of space onto a line, or even onto a single point, since then the area of any region will become $0$.\n",
    "\n",
    "<img src='img/la_pic80.png' width=600>"
   ]
  },
  {
   "cell_type": "markdown",
   "metadata": {},
   "source": [
    "That last example will prove to be pretty important: it means that checking if the determinant of a given matrix is $0$ will give a way of computing whether or not the transformation associated with that matrix squishes everything into a smaller dimension.\n",
    "\n",
    "<img src='img/la_pic81.png' width=600>"
   ]
  },
  {
   "cell_type": "markdown",
   "metadata": {},
   "source": [
    "<a id='negative_determinant'></a>\n",
    "### 3.11 Negative determinant\n",
    "\n",
    "Back to [section 3](#matrices) / Back to the [top](#top)"
   ]
  },
  {
   "cell_type": "markdown",
   "metadata": {},
   "source": [
    "The concept as laid out so far is not quite right: the full concept of determinant allows for **negative values**, this has to do with the idea of orientation.\n",
    "\n",
    "Some transformations give the sensation of flipping space over. If you're thinking of 2-d space as a sheet of paper, a transformation like that one seems to turn over that sheet onto the other side. Any transformations that do this are said to **\"invert the orientation of space\".\n",
    "\n",
    "Another way to think about it is in terms of $\\hat{i}$ and $\\hat{j}$. Notice that in their starting positions, $\\hat{j}$ is to the left of $\\hat{i}$. \n",
    "\n",
    "<img src='img/la_pic82.png'>\n",
    "\n",
    "If after a transformation, $\\hat{j}$ is now on the right of $\\hat{i}$, the orientation of space has been inverted."
   ]
  },
  {
   "cell_type": "markdown",
   "metadata": {},
   "source": [
    ">Whenever the orientation of space has been inverted, the determinant will be negative. The absolute value of the determinant though still tells you the factor by which areas have been scaled."
   ]
  },
  {
   "cell_type": "markdown",
   "metadata": {},
   "source": [
    "<img src='img/la_pic83.png' width=600>"
   ]
  },
  {
   "cell_type": "markdown",
   "metadata": {},
   "source": [
    "For example, the matrix with columns $\\begin{bmatrix} 1 & 2 \\\\ 1 & -1 \\end{bmatrix}$ encodes the transformation that has determinant $-3$. What this means is that space gets flipped over and areas are scaled by a factor of $3$.\n",
    "\n",
    "<img src='img/la_pic84.png'>"
   ]
  },
  {
   "cell_type": "markdown",
   "metadata": {},
   "source": [
    "<a id='why_negative_determinant'></a>\n",
    "### 3.12 Why negative determinant describes orientation flipping?\n",
    "\n",
    "Back to [section 3](#matrices) / Back to the [top](#top)"
   ]
  },
  {
   "cell_type": "markdown",
   "metadata": {},
   "source": [
    "Why would the idea of a negative area scaling factor be a natural way to describe orientation flipping? Think about the series of transformations you get by slowly letting $\\hat{i}$ get closer and closer to $\\hat{j}$.\n",
    "\n",
    "<img src='img/la_pic85.png' width=600>"
   ]
  },
  {
   "cell_type": "markdown",
   "metadata": {},
   "source": [
    "As $\\hat{i}$ gets closer to $\\hat{j}$, all of the areas in space get squished more and more, meaning the determinant approaches 0. Once $\\hat{i}$ lines up perfectly with $\\hat{j}$, the determinant is 0.\n",
    "\n",
    "<img src='img/la_pic86.png' width=600>"
   ]
  },
  {
   "cell_type": "markdown",
   "metadata": {},
   "source": [
    "Then, if $\\hat{i}$ continues the way it was going, doesn't it feel natural for the determinant to keep decreasing into the negative numbers?\n",
    "\n",
    "<img src='img/la_pic87.png' width=600>"
   ]
  },
  {
   "cell_type": "markdown",
   "metadata": {},
   "source": [
    "<a id='determinant_3d'></a>\n",
    "### 3.13 Determinant in 3 dimensions\n",
    "\n",
    "Back to [section 3](#matrices) / Back to the [top](#top)"
   ]
  },
  {
   "cell_type": "markdown",
   "metadata": {},
   "source": [
    "Determinant of a 3-dimensional matrix also tells how much a transformation scales things, but this time, it tells you how much **volumes** gets scaled. Just as in 2 dimensions, where this it easiest to think about by focusing on one particular square with an area 1 and watching only what happens to it.\n",
    "\n",
    "<img src='img/la_pic88.png' width=600>"
   ]
  },
  {
   "cell_type": "markdown",
   "metadata": {},
   "source": [
    "In 3 dimensions, it helps to focus your attention on the specific 1-by-1-by-1 cube, whose edges are resting on the basis vectors: $\\hat{i}$, $\\hat{j}$, and $\\hat{k}$.\n",
    "\n",
    "<img src='img/la_pic89.png' width=600>"
   ]
  },
  {
   "cell_type": "markdown",
   "metadata": {},
   "source": [
    "After the transformation, that cube might get warped into some kind of slanty slanty cube -- parallelepiped.\n",
    "\n",
    "<img src='img/la_pic90.png' width=600>"
   ]
  },
  {
   "cell_type": "markdown",
   "metadata": {},
   "source": [
    "Since this cube starts with a volume of 1, and the determinant gives the factor by which any volume is scaled, you can think of the determinant simpy as being the volume of that parallelepiped that the cube turns into.\n",
    "\n",
    "<img src='img/la_pic91.png' width=600>"
   ]
  },
  {
   "cell_type": "markdown",
   "metadata": {},
   "source": [
    "<a id='determinant_0_3d'></a>\n",
    "### 3.14 Determinant is 0 in 3-d: linearly dependent columns\n",
    "\n",
    "Back to [section 3](#matrices) / Back to the [top](#top)"
   ]
  },
  {
   "cell_type": "markdown",
   "metadata": {},
   "source": [
    "A determinant of 0 means that all of space is squished onto something with 0 volume, meaning either a flat plane, a line, or in th most extreme case, onto a single point. This means that the columns of the matrix are linearly dependent (in this case, $\\hat{j} = \\hat{i} + \\hat{k})$.\n",
    "\n",
    "<img src='img/la_pic92.png' width=600>"
   ]
  },
  {
   "cell_type": "markdown",
   "metadata": {},
   "source": [
    "<a id='negative_determinant_3d'></a>\n",
    "### 3.15 Negative determinant in 3 dimensions\n",
    "\n",
    "Back to [section 3](#matrices) / Back to the [top](#top)\n",
    "\n",
    "One way to describe orientation in 3-d is with the **right hand rule**: point the forefinger of your right hand in the direction of $\\hat{i}$, stick out your middle finger in the direction of $\\hat{j}$, and notice that when you point your thumb up, it's in the direction of $\\hat{k}$\n",
    "\n",
    "<img src='img/la_pic93.png' width=600>"
   ]
  },
  {
   "cell_type": "markdown",
   "metadata": {},
   "source": [
    "If you can still do that after the transformation, orientation has not changed, and the determinant is positive.\n",
    "\n",
    "Otherwise, if after the transformation it only makes sense to do that with your left hand, orientation has been flipped, and the determinant is negative.\n",
    "\n",
    "<img src='img/la_pic94.png' width=600>"
   ]
  },
  {
   "cell_type": "markdown",
   "metadata": {},
   "source": [
    "<a id='compute_determinant_2d'></a>\n",
    "### 3.16 Computing the determinant of a matrix in 2 dimensions\n",
    "\n",
    "Back to [section 3](#matrices) / Back to the [top](#top)"
   ]
  },
  {
   "cell_type": "markdown",
   "metadata": {},
   "source": [
    "For a $2\\times{2}$ matrix with entries $a, b, c, d$, the formula is:\n",
    "\n",
    "$ \\det \\left( \\begin{bmatrix} a & b \\\\ c & d \\end{bmatrix} \\right) = ad - bc $"
   ]
  },
  {
   "cell_type": "markdown",
   "metadata": {},
   "source": [
    "Here is part of an intuituin for where this formula comes from.\n",
    "\n",
    "Let say the terms $b$ and $c$ both happen to be 0.\n",
    "\n",
    "Then, the term $a$ tells you how much $\\hat{i}$ is stretched in the $x$ direction, and the term $d$ tells you how much $\\hat{j}$ is stretched in the $y$ direction.\n",
    "\n",
    "<img src='img/la_pic95.png' width=600>"
   ]
  },
  {
   "cell_type": "markdown",
   "metadata": {},
   "source": [
    "So, it should make sense that $a\\cdot{d}$ gives us the area of the rectangle that our unit square turns into.\n",
    "\n",
    "$ \\det \\left( \\begin{bmatrix} a & 0 \\\\ 0 & d \\end{bmatrix} \\right) = a\\cdot{d} - 0\\cdot{0} = ad $"
   ]
  },
  {
   "cell_type": "markdown",
   "metadata": {},
   "source": [
    "Even if one of $b$ or $c$ is $0$, you'll have a parallelogram with a base $a$ and a height $d$, so the area should still be $a\\times{d}$.\n",
    "\n",
    "<img src='img/la_pic96.png' width=600>\n",
    "\n",
    "$ \\det \\left( \\begin{bmatrix} a & b \\\\ 0 & d \\end{bmatrix} \\right) = a\\cdot{d} - b\\cdot{0} = ad $"
   ]
  },
  {
   "cell_type": "markdown",
   "metadata": {},
   "source": [
    "Loosely speaking, if both $b$ and $c$ are non-zero, then that $b*c$ term tells you how much that parallelogram is stretched or squished in the diagonal direction.\n",
    "\n",
    "<img src='img/la_pic97.png'>"
   ]
  },
  {
   "cell_type": "markdown",
   "metadata": {},
   "source": [
    "Here is a helpful diagram with a more precise description of the $b\\cdot{c}$ term.\n",
    "\n",
    "<img src='img/la_pic98.png'>"
   ]
  },
  {
   "cell_type": "markdown",
   "metadata": {},
   "source": [
    "<a id='compute_determinant_3d'></a>\n",
    "### 3.17 Computing the determinant of a matrix in 3 dimensions\n",
    "\n",
    "Back to [section 3](#matrices) / Back to the [top](#top)"
   ]
  },
  {
   "cell_type": "markdown",
   "metadata": {},
   "source": [
    "The formula for computing the determinant in 3 dimensions is:\n",
    "\n",
    "<img src='img/la_pic99.png' width=600>"
   ]
  },
  {
   "cell_type": "markdown",
   "metadata": {},
   "source": [
    "## Review of derivatives, gradients, and Hessians\n",
    "\n",
    "* Given a function $f$ of $n$ variables $ x_1, x_2,...,x_n $, we use the following notations to represent the vector of variables and the function: \n",
    "\n",
    "$ x = (x_1,x_2,...,x_n)^T$, \n",
    "\n",
    "$ f(x) = f(x_1,x_2,...,x_n) $\n",
    "\n",
    "* The **gradient** extends the notion of derivative, the **Hessian matrix** -- that of second derivative.\n",
    "\n",
    "* We define the **partial derivative** relative to a variable $ x_i $, written as $ \\large{ \\frac{\\partial{f}} {\\partial{x_i}} } $, to be derivative of $f$ with respect to $x_i$ treating all variables except $x_i$ as constant.\n",
    "\n",
    "* The **gradient** of $f$ at $x$, written as $ \\nabla{f(x)} $, is \n",
    "\n",
    "$$ \\nabla{f(x)} = \n",
    "\\left( \n",
    "\\begin{array}{c} \n",
    "\\frac{\\partial{f}} {\\partial{x_1}} \\\\ \n",
    "\\frac{\\partial{f}} {\\partial{x_2}} \\\\ \n",
    "\\vdots \\\\ \n",
    "\\frac{\\partial{f}} {\\partial{x_n}} \n",
    "\\end{array} \n",
    "\\right) $$\n",
    "\n",
    "The gradient of $f$ is a multivariate function of $x$, $f(x)\\in\\mathbb{R} $, $\\nabla{f(x)}\\in\\mathbb{R}^n$.\n",
    "\n",
    "* The **gradient** vector $ \\nabla{f(x)} $ gives the direction of the steepest ascent of the function $f$ at point $x$. The **gradient** acts like the **derivative** in that small changes around the point $x^*$ can be estimated using the gradient (see first-order **Taylor series** expansion and finite difference methods). \n",
    "\n",
    "* Second partial derivatives $ \\large{ \\frac{\\partial^2{f}} {\\partial{x_i}\\partial{x_j}} } $ are obtained from $f(x)$ by taking the derivative relative to $x_i$ (this yields the first partial derivative $ \\large{ \\frac{\\partial{f}} {\\partial{x_i}} } $), and then by taking a derivative of $ \\large{ \\frac{\\partial{f}} {\\partial{x_i}} } $ relative to $x_j$. So, we can compute $ \\large{ \\frac{\\partial^2{f}} {\\partial{x_1}\\partial{x_1}} = \\frac{\\partial^2{f}} {\\partial{x_1^2}} } $, $ \\large{ \\frac{\\partial^2{f}}{\\partial{x_1}\\partial{x_2}} } $ and so on. These values are arranged into the **Hessian matrix**:\n",
    "\n",
    "$ \\large{ \\nabla^2{f(x)} = \n",
    "\\left(\n",
    "\\begin{array}{rrrr}\n",
    "\\frac{\\partial^2{f}} {\\partial{x_1^2}} & \\frac{\\partial^2{f}}{\\partial{x_1}\\partial{x_2}} & \\dotsc & \\frac{\\partial^2{f}}{\\partial{x_1}\\partial{x_n}} \\\\\n",
    "\\frac{\\partial^2{f}} {\\partial{x_2^2}} & \\frac{\\partial^2{f}}{\\partial{x_2^2}} & \\dotsc & \\frac{\\partial^2{f}}{\\partial{x_2}\\partial{x_n}} \\\\\n",
    "\\vdots & \\vdots & \\ddots & \\vdots \\\\\n",
    "\\frac{\\partial^2{f}} {\\partial{x_1^2}} & \\frac{\\partial^2{f}}{\\partial{x_1}\\partial{x_2}} & \\dotsc & \\frac{\\partial^2{f}}{\\partial{x_1}\\partial{x_n}}\n",
    "\\end{array}\n",
    "\\right)\n",
    "} $\n",
    "\n",
    "The **Hessian matrix** is a _symmetric matrix_, that is $ \\large{ \\frac{\\partial^2{f}} {\\partial{x_i}\\partial{x_j}} = \\frac{\\partial^2{f}} {\\partial{x_j}\\partial{x_i}} } $."
   ]
  },
  {
   "cell_type": "markdown",
   "metadata": {},
   "source": [
    "## Computing gradients and Hessians\n",
    "\n",
    "---\n",
    "#### Example\n",
    "\n",
    "Compute the **gradient** and the **Hessian** of the function $ f(x_1,x_2) = x_1^2 - 3 x_1 x_2 + x_2^2  $ at the point $ x = (x_1,x_2)^T = (1,1)^T $."
   ]
  },
  {
   "cell_type": "markdown",
   "metadata": {},
   "source": [
    "#### Solution\n",
    "\n",
    "Partial derivatives of the function $ f(x_1,x_2) $ with respect to $x_1$ and $x_2$ are:\n",
    "\n",
    "$ \\large{ \\frac{\\partial{f}} {\\partial{x_1}} } = 2x_1 - 3x_2 $\n",
    "\n",
    "$ \\large{ \\frac{\\partial{f}} {\\partial{x_2}} } = -3x_1 + 2x_2 $\n",
    "\n",
    "Second derivatives of the function $ f(x_1,x_2) $ with respect to $x_1$ and $x_2$ are:\n",
    "\n",
    "$ \\large{ \\frac{\\partial^2{f}} {\\partial{x_1^2}} } = 2 $\n",
    "\n",
    "$ \\large{ \\frac{\\partial^2{f}} {\\partial{x_1}\\partial{x_2}} = \\frac{\\partial^2{f}} {\\partial{x_2}\\partial{x_1}} } = -3 $\n",
    "\n",
    "$ \\large{ \\frac{\\partial^2{f}} {\\partial{x_2^2}} } = 2 $\n",
    "\n",
    "At the point $ x = (x_1,x_2)^T = (1,1)^T $ first derivatives take values:\n",
    "\n",
    "$ \\large{ \\frac{\\partial{f}} {\\partial{x_1}} } = 2x_1 - 3x_2  = 2 - 3 = -1 $\n",
    "\n",
    "$ \\large{ \\frac{\\partial{f}} {\\partial{x_2}} } = -3x_1 + 2x_2 = -3 + 2 = -1 $\n",
    "\n",
    "\n",
    "The **gradient vector** of the function $f(x_1,x_2)$, denoted $\\nabla{f(x_1,x_2)}$, is:\n",
    "\n",
    "$ \\nabla{f(x_1,x_2)} =\n",
    "\\left(\n",
    "\\large{\n",
    "\\begin{array}{c}\n",
    "\\frac{\\partial{f}} {\\partial{x_1}} \\\\\n",
    "\\frac{\\partial{f}} {\\partial{x_2}}\n",
    "\\end{array}\n",
    "}\n",
    "\\right)\n",
    "=\n",
    "\\left(\n",
    "\\large{\n",
    "\\begin{array}{c}\n",
    "2x_1 - 3x_2 \\\\\n",
    "-3x_1 + 2x_2\n",
    "\\end{array}\n",
    "}\n",
    "\\right)\n",
    "=\n",
    "\\left(\n",
    "\\begin{array}{c}\n",
    "-1 \\\\\n",
    "-1\n",
    "\\end{array}\n",
    "\\right)\n",
    "$\n",
    "\n",
    "The **Hessian matrix** of the function $f(x_1,x_2)$, denoted $\\nabla^2{f(x_1,x_2)}$, is:\n",
    "\n",
    "$ \\nabla^2{f(x_1,x_2)} = \n",
    "\\left(\n",
    "\\large{\n",
    "\\begin{array}{rr}\n",
    "\\frac{\\partial^2{f}} {\\partial{x_1^2}} & \\frac{\\partial^2{f}} {\\partial{x_1}\\partial{x_2}} \\\\\n",
    "\\frac{\\partial^2{f}} {\\partial{x_2}\\partial{x_1}} & \\frac{\\partial^2{f}} {\\partial{x_2^2}}\n",
    "\\end{array}\n",
    "}\n",
    "\\right)\n",
    "=\n",
    "\\left(\n",
    "\\begin{array}{rr}\n",
    "2 & -3 \\\\\n",
    "-3 & 2\n",
    "\\end{array}\n",
    "\\right)\n",
    "$"
   ]
  },
  {
   "cell_type": "markdown",
   "metadata": {},
   "source": [
    "---\n",
    "\n",
    "## Taylor series expansion\n",
    "\n",
    "A [Taylor Series](https://en.wikipedia.org/wiki/Taylor_series) is an expansion of a function into an infinite sum of terms.\n",
    "\n",
    "A function can be approximated by using a finite number of terms of its Taylor series. [Taylor's theorem](https://en.wikipedia.org/wiki/Taylor%27s_theorem) gives quantitative estimates on the error introduced by the use of such an approximation. The polynomial formed by taking some initial terms of the Taylor series is called a Taylor polynomial. The Taylor series of a function is the limit of that function's Taylor polynomials as the degree increases, provided that the limit exists. A function may not be equal to its Taylor series, even if its Taylor series converges at every point. A function that is equal to its Taylor series in an open interval (or a disc in the complex plane) is known as an analytic function in that interval. "
   ]
  },
  {
   "cell_type": "markdown",
   "metadata": {},
   "source": [
    "### Taylor Series for $ \\large{ e^x } $:\n",
    "\n",
    "$ \\large{ e^x = 1 + x + \\frac{x^2} {2!} + \\frac{x^3} {3!} + \\frac{x^4} {4!} + \\dotsc } $\n",
    "\n",
    "#### Does it really work?"
   ]
  },
  {
   "cell_type": "markdown",
   "metadata": {},
   "source": [
    "#### Define a function for Taylor Series expansion for $e^x$\n",
    "\n",
    "Sigma notation:\n",
    "\n",
    "$ \\large{ e^x = \\sum\\limits_{n=0}^{\\infty}{\\frac{x^n} {n!}} } $"
   ]
  },
  {
   "cell_type": "code",
   "execution_count": 2,
   "metadata": {},
   "outputs": [],
   "source": [
    "def taylor_approx_e_x(x, terms):\n",
    "    \"\"\"\n",
    "    function that uses Taylor Series expansion of e ^ x\n",
    "    to find approximate values for supplied range of x\n",
    "    \n",
    "    -----------------------------------------------------\n",
    "    Input arguments: x         -- np.array -- array with x values\n",
    "                     terms     -- integer  -- number of terms to be used in the Taylor Series expansion \n",
    "                                              (1 + x + x^2/2! + x^3/3! + ...)\n",
    "\n",
    "    Returns: approximation_e_x -- float    -- approximated values of the function e^x\n",
    "    \"\"\"\n",
    "    # create an numpy array to store results\n",
    "    approximation_e_x = np.array(0)\n",
    "    \n",
    "    # perform Taylor Series expansion: e^x = 1 + x+ x^2 / 2! + x^3 / 3! + ...\n",
    "    for n in np.arange(terms): # loop over all terms (subtract 1 for the first term)\n",
    "        approximation_e_x += x ** (n) / np.math.factorial(n) # add subsequent terms (+1 to start from 1, not 0)\n",
    "    \n",
    "    # return an array with approximated values\n",
    "    return approximation_e_x"
   ]
  },
  {
   "cell_type": "markdown",
   "metadata": {},
   "source": [
    "#### Define a function to loop over expansion increasing number of terms"
   ]
  },
  {
   "cell_type": "code",
   "execution_count": 11,
   "metadata": {},
   "outputs": [],
   "source": [
    "def taylor_e_x_loop(min_terms, max_terms):\n",
    "    \"\"\"\n",
    "    function that loops the Taylor Series approximation\n",
    "    increasing number of terms used in approximation\n",
    "    \n",
    "    calls another function 'talor_ser_approx_e_x'\n",
    "    and returns a DataFrame with results\n",
    "    \n",
    "    Input arguments: min_terms        -- integer          -- minimum number of terms to be used in the\n",
    "                                                             approximation using Taylor Series expansion\n",
    "                     max_terms        -- integer          -- maximum number of terms to be used in the\n",
    "                                                             approximation using Taylor Series expansion\n",
    "                                             \n",
    "    Returns:         ts_df            -- pandas DataFrame -- DataFrame with results of approximation\n",
    "    \"\"\"\n",
    "    # create an empty DataFrame to store results\n",
    "    ts_df = pd.DataFrame()\n",
    "    # create x-axis values\n",
    "    ts_df['x'] = np.linspace(-5, 5, 11)\n",
    "    # calculate values of the actual function\n",
    "    ts_df['f(x)'] = np.e ** ts_df['x']\n",
    "    \n",
    "    # loop over the range of terms for Taylor Series expansion\n",
    "    for terms in np.arange(min_terms, max_terms + 1):\n",
    "    # call function that performs Taylor Series expansion, supplying x argument and the number of terms \n",
    "        ts_df['ts_approx_' + str(terms)] = taylor_approx_e_x(ts_df['x'], terms)\n",
    "    \n",
    "    # return DataFrame with results of Taylor Series expansion\n",
    "    return ts_df"
   ]
  },
  {
   "cell_type": "markdown",
   "metadata": {},
   "source": [
    "#### Define a function to plot results"
   ]
  },
  {
   "cell_type": "code",
   "execution_count": 12,
   "metadata": {},
   "outputs": [],
   "source": [
    "def plot_df(df, x_key, title, x_lim=None, y_lim=None):\n",
    "    \"\"\"\n",
    "    function to plot a DataFrame, uses 'x_key' for x-axis\n",
    "    \n",
    "    -----------------------------------------------------\n",
    "    Input arguments: df    -- pandas DataFrame -- DataFrame with results to be plotted\n",
    "                     x_key -- string           -- index of the column to be used for x axis\n",
    "                     x_lim -- list of 2 floats -- list of 2 limits to be used on the x axis of the plot (default=None)\n",
    "                     y_lim -- list of 2 floats -- list of 2 limits to be used on the y axis of the plot (default=None)\n",
    "    \n",
    "    Returns:         None, plots a graph of a function\n",
    "    \"\"\"\n",
    "    # create figure and axis\n",
    "    f, ax = plt.subplots(1, figsize=(8, 8))\n",
    "    \n",
    "    # plot results\n",
    "    df.plot(x=x_key, ax=ax)\n",
    "    \n",
    "    # set axis parameters\n",
    "    ax.set_title(title)\n",
    "    ax.axhline(0, linestyle='--', linewidth=1, color='black')\n",
    "    ax.axvline(0, linestyle='--', linewidth=1, color='black')\n",
    "    ax.set_xticks(np.arange(df[x_key].min(), df[x_key].max() + 1))\n",
    "    ax.grid(False)\n",
    "    \n",
    "    # set axis limits (if supplied)\n",
    "    if x_lim != None:\n",
    "        ax.set_xlim(x_lim)\n",
    "    \n",
    "    if y_lim != None:\n",
    "        ax.set_ylim(y_lim)\n",
    "    \n",
    "    plt.show()"
   ]
  },
  {
   "cell_type": "markdown",
   "metadata": {},
   "source": [
    "#### Perform approximation of $e^x$ using Taylor Series expansion"
   ]
  },
  {
   "cell_type": "code",
   "execution_count": 13,
   "metadata": {
    "scrolled": false
   },
   "outputs": [
    {
     "data": {
      "image/png": "[encoded data removed]",
      "text/plain": [
       "<Figure size 576x576 with 1 Axes>"
      ]
     },
     "metadata": {},
     "output_type": "display_data"
    }
   ],
   "source": [
    "min_terms = 5\n",
    "max_terms = 10\n",
    "\n",
    "ts_results_df = taylor_e_x_loop(min_terms, max_terms)\n",
    "\n",
    "x_key = 'x'\n",
    "title = 'Taylor Series approximation of the function $e^x$\\nmin terms: {0}, max terms: {1}'.format(min_terms, max_terms)\n",
    "\n",
    "plot_df(ts_results_df, x_key, title)"
   ]
  },
  {
   "cell_type": "code",
   "execution_count": 14,
   "metadata": {},
   "outputs": [
    {
     "data": {
      "image/png": "[encoded data removed]",
      "text/plain": [
       "<Figure size 432x288 with 1 Axes>"
      ]
     },
     "metadata": {},
     "output_type": "display_data"
    }
   ],
   "source": [
    "display_num = 5\n",
    "ts_results_df[ts_results_df['x'] == display_num].drop('x', axis=1).plot(kind='bar')\n",
    "ax = plt.gca()\n",
    "#ax.set_ylim(6.5, 8)\n",
    "ax.set_title(\"Taylor Series estimations improve with increase\\nin number of terms used in expansion\")\n",
    "ax.set_xlabel(\"Estimation of $e^x$ for x={0}\".format(display_num))\n",
    "plt.show()"
   ]
  },
  {
   "cell_type": "code",
   "execution_count": 15,
   "metadata": {},
   "outputs": [
    {
     "data": {
      "text/html": [
       "<div>\n",
       "<style scoped>\n",
       "    .dataframe tbody tr th:only-of-type {\n",
       "        vertical-align: middle;\n",
       "    }\n",
       "\n",
       "    .dataframe tbody tr th {\n",
       "        vertical-align: top;\n",
       "    }\n",
       "\n",
       "    .dataframe thead th {\n",
       "        text-align: right;\n",
       "    }\n",
       "</style>\n",
       "<table border=\"1\" class=\"dataframe\">\n",
       "  <thead>\n",
       "    <tr style=\"text-align: right;\">\n",
       "      <th></th>\n",
       "      <th>x</th>\n",
       "      <th>f(x)</th>\n",
       "      <th>ts_approx_5</th>\n",
       "      <th>ts_approx_6</th>\n",
       "      <th>ts_approx_7</th>\n",
       "      <th>ts_approx_8</th>\n",
       "      <th>ts_approx_9</th>\n",
       "      <th>ts_approx_10</th>\n",
       "    </tr>\n",
       "  </thead>\n",
       "  <tbody>\n",
       "    <tr>\n",
       "      <th>7</th>\n",
       "      <td>2.0</td>\n",
       "      <td>7.389056</td>\n",
       "      <td>7.0</td>\n",
       "      <td>7.266667</td>\n",
       "      <td>7.355556</td>\n",
       "      <td>7.380952</td>\n",
       "      <td>7.387302</td>\n",
       "      <td>7.388713</td>\n",
       "    </tr>\n",
       "  </tbody>\n",
       "</table>\n",
       "</div>"
      ],
      "text/plain": [
       "     x      f(x)  ts_approx_5  ts_approx_6  ts_approx_7  ts_approx_8  \\\n",
       "7  2.0  7.389056          7.0     7.266667     7.355556     7.380952   \n",
       "\n",
       "   ts_approx_9  ts_approx_10  \n",
       "7     7.387302      7.388713  "
      ]
     },
     "execution_count": 15,
     "metadata": {},
     "output_type": "execute_result"
    }
   ],
   "source": [
    "ts_results_df[ts_results_df['x'] == 2]"
   ]
  },
  {
   "cell_type": "markdown",
   "metadata": {},
   "source": [
    "### Taylor Series expansion of $sin(x)$\n",
    "\n",
    "$ sin(x) = x - \\frac{x^3} {3!} + \\frac{x^5} {5!} - ... $\n",
    "\n",
    "#### Define a function for Taylor Series expansion of $sin(x)$\n",
    "\n",
    "Sigma notation:\n",
    "\n",
    "$ sin(x) = \\large{ \\sum\\limits_{n=0}^{\\infty} { \\frac{(-1)^n} {(2n + 1)!} x ^ {2n + 1} } } $"
   ]
  },
  {
   "cell_type": "code",
   "execution_count": 16,
   "metadata": {},
   "outputs": [],
   "source": [
    "def taylor_approx_sin_x(x, terms):\n",
    "    \"\"\"\n",
    "    function that uses Taylor Series expansion of sin(x)\n",
    "    to find approximate values for supplied range of x\n",
    "    \n",
    "    -----------------------------------------------------\n",
    "    Input arguments: x         -- np.array -- array with x values\n",
    "                     n         -- integer  -- number of terms in the Taylor Series expansion \n",
    "                                              (x - x^3/3! + x^5/5! + ...)\n",
    "\n",
    "    Returns: approximation     -- float    -- approximated values of the function sin(x)\n",
    "    \"\"\"\n",
    "    # create an numpy array to store results\n",
    "    approximation = np.array(0)\n",
    "    \n",
    "    # perform Taylor Series expansion: e^x = 1 + x+ x^2 / 2! + x^3 / 3! + ...\n",
    "    for n in np.arange(terms): # loop over all terms (subtract 1 for the first term)\n",
    "        approximation += (-1) ** (n) / np.math.factorial(2 * n + 1) * x ** (2 * n + 1) # add subsequent terms (+1 to start from 1, not 0)\n",
    "    \n",
    "    # return an array with approximated values\n",
    "    return approximation"
   ]
  },
  {
   "cell_type": "markdown",
   "metadata": {},
   "source": [
    "#### Define a function to loop over expansion increasing number of terms"
   ]
  },
  {
   "cell_type": "code",
   "execution_count": 19,
   "metadata": {},
   "outputs": [],
   "source": [
    "def taylor_sin_x_loop(min_x, max_x, min_terms, max_terms):\n",
    "    \"\"\"\n",
    "    function that loops the Taylor Series approximation\n",
    "    increasing number of terms used in approximation\n",
    "    \n",
    "    calls another function 'talor_ser_approx_sin_x'\n",
    "    and returns a DataFrame with results\n",
    "    \n",
    "    Input arguments: min_x            -- float            -- minimum value of x to be used for approximation\n",
    "                     max_x            -- float            -- maximum value of x to be used for approximation\n",
    "                     min_terms        -- integer          -- minimum number of terms to be used in the\n",
    "                                                             approximation using Taylor Series expansion\n",
    "                     max_terms        -- integer          -- maximum number of terms to be used in the\n",
    "                                                             approximation using Taylor Series expansion\n",
    "                                             \n",
    "    Returns:         ts_df            -- pandas DataFrame -- DataFrame with results of approximation\n",
    "    \"\"\"\n",
    "    # create an empty DataFrame to store results\n",
    "    ts_df = pd.DataFrame()\n",
    "    # create x-axis values\n",
    "    ts_df['x'] = np.linspace(min_x, max_x, 1000)\n",
    "    # calculate values of the actual function\n",
    "    ts_df['f(x)'] = np.sin(ts_df['x'])\n",
    "    \n",
    "    # loop over the range of terms for Taylor Series expansion\n",
    "    for terms in np.arange(min_terms, max_terms + 1):\n",
    "    # call function that performs Taylor Series expansion, supplying x argument and the number of terms \n",
    "        ts_df['ts_approx_' + str(terms)] = taylor_approx_sin_x(ts_df['x'], terms)\n",
    "    \n",
    "    # return DataFrame with results of Taylor Series expansion\n",
    "    return ts_df"
   ]
  },
  {
   "cell_type": "markdown",
   "metadata": {},
   "source": [
    "#### Perform approximation of $e^x$ using Taylor Series expansion"
   ]
  },
  {
   "cell_type": "code",
   "execution_count": 20,
   "metadata": {
    "scrolled": false
   },
   "outputs": [
    {
     "data": {
      "image/png": "[encoded data removed]",
      "text/plain": [
       "<Figure size 576x576 with 1 Axes>"
      ]
     },
     "metadata": {},
     "output_type": "display_data"
    }
   ],
   "source": [
    "min_terms = 1\n",
    "max_terms = 3\n",
    "min_x = - np.pi\n",
    "max_x = np.pi\n",
    "\n",
    "ts_results_df = taylor_sin_x_loop(min_x, max_x, min_terms, max_terms)\n",
    "\n",
    "x_key = 'x'\n",
    "title = 'Taylor Series approximation of the function $sin(x)$\\nmin terms: {0}, max terms: {1}'.format(min_terms, max_terms)\n",
    "\n",
    "plot_df(ts_results_df, x_key, title, x_lim=[min_x, max_x])"
   ]
  },
  {
   "cell_type": "markdown",
   "metadata": {},
   "source": [
    "Second-order Taylor series expansion:\n",
    "\n",
    "$ f(x) = f(x_0) + \\nabla{f(x_0)^T}(x - x_0) + \\frac{1} {2}(x - x_0)^T \\nabla^2{f(x_0)}(x - x_0) $\n",
    "\n",
    "First-order Taylor series expansion:"
   ]
  }
 ],
 "metadata": {
  "kernelspec": {
   "display_name": "Python 3",
   "language": "python",
   "name": "python3"
  },
  "language_info": {
   "codemirror_mode": {
    "name": "ipython",
    "version": 3
   },
   "file_extension": ".py",
   "mimetype": "text/x-python",
   "name": "python",
   "nbconvert_exporter": "python",
   "pygments_lexer": "ipython3",
   "version": "3.6.5"
  }
 },
 "nbformat": 4,
 "nbformat_minor": 2
}
